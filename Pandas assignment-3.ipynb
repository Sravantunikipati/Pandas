{
 "cells": [
  {
   "cell_type": "code",
   "execution_count": 1,
   "id": "73a1fb63",
   "metadata": {},
   "outputs": [],
   "source": [
    "import pandas as pd\n",
    "import numpy as np"
   ]
  },
  {
   "cell_type": "code",
   "execution_count": 2,
   "id": "0b712a34",
   "metadata": {},
   "outputs": [],
   "source": [
    "data = pd.read_csv(r\"C:\\Users\\srava\\Downloads\\all_grains_data.csv\")"
   ]
  },
  {
   "cell_type": "code",
   "execution_count": 4,
   "id": "81f3a0fe",
   "metadata": {},
   "outputs": [
    {
     "data": {
      "text/html": [
       "<div>\n",
       "<style scoped>\n",
       "    .dataframe tbody tr th:only-of-type {\n",
       "        vertical-align: middle;\n",
       "    }\n",
       "\n",
       "    .dataframe tbody tr th {\n",
       "        vertical-align: top;\n",
       "    }\n",
       "\n",
       "    .dataframe thead th {\n",
       "        text-align: right;\n",
       "    }\n",
       "</style>\n",
       "<table border=\"1\" class=\"dataframe\">\n",
       "  <thead>\n",
       "    <tr style=\"text-align: right;\">\n",
       "      <th></th>\n",
       "      <th>ticker</th>\n",
       "      <th>commodity</th>\n",
       "      <th>date</th>\n",
       "      <th>open</th>\n",
       "      <th>high</th>\n",
       "      <th>low</th>\n",
       "      <th>close</th>\n",
       "      <th>volume</th>\n",
       "    </tr>\n",
       "  </thead>\n",
       "  <tbody>\n",
       "    <tr>\n",
       "      <th>0</th>\n",
       "      <td>ZC=F</td>\n",
       "      <td>Corn</td>\n",
       "      <td>2000-07-17</td>\n",
       "      <td>182.25</td>\n",
       "      <td>182.25</td>\n",
       "      <td>178.25</td>\n",
       "      <td>179.25</td>\n",
       "      <td>19385</td>\n",
       "    </tr>\n",
       "    <tr>\n",
       "      <th>1</th>\n",
       "      <td>ZC=F</td>\n",
       "      <td>Corn</td>\n",
       "      <td>2000-07-18</td>\n",
       "      <td>179.00</td>\n",
       "      <td>183.25</td>\n",
       "      <td>179.00</td>\n",
       "      <td>180.75</td>\n",
       "      <td>25205</td>\n",
       "    </tr>\n",
       "    <tr>\n",
       "      <th>2</th>\n",
       "      <td>ZC=F</td>\n",
       "      <td>Corn</td>\n",
       "      <td>2000-07-19</td>\n",
       "      <td>180.00</td>\n",
       "      <td>182.75</td>\n",
       "      <td>178.75</td>\n",
       "      <td>182.00</td>\n",
       "      <td>17126</td>\n",
       "    </tr>\n",
       "    <tr>\n",
       "      <th>3</th>\n",
       "      <td>ZC=F</td>\n",
       "      <td>Corn</td>\n",
       "      <td>2000-07-20</td>\n",
       "      <td>181.50</td>\n",
       "      <td>187.00</td>\n",
       "      <td>181.00</td>\n",
       "      <td>186.00</td>\n",
       "      <td>18742</td>\n",
       "    </tr>\n",
       "    <tr>\n",
       "      <th>4</th>\n",
       "      <td>ZC=F</td>\n",
       "      <td>Corn</td>\n",
       "      <td>2000-07-21</td>\n",
       "      <td>185.50</td>\n",
       "      <td>188.00</td>\n",
       "      <td>185.00</td>\n",
       "      <td>187.75</td>\n",
       "      <td>16814</td>\n",
       "    </tr>\n",
       "  </tbody>\n",
       "</table>\n",
       "</div>"
      ],
      "text/plain": [
       "  ticker commodity        date    open    high     low   close  volume\n",
       "0   ZC=F      Corn  2000-07-17  182.25  182.25  178.25  179.25   19385\n",
       "1   ZC=F      Corn  2000-07-18  179.00  183.25  179.00  180.75   25205\n",
       "2   ZC=F      Corn  2000-07-19  180.00  182.75  178.75  182.00   17126\n",
       "3   ZC=F      Corn  2000-07-20  181.50  187.00  181.00  186.00   18742\n",
       "4   ZC=F      Corn  2000-07-21  185.50  188.00  185.00  187.75   16814"
      ]
     },
     "execution_count": 4,
     "metadata": {},
     "output_type": "execute_result"
    }
   ],
   "source": [
    "data.head()"
   ]
  },
  {
   "cell_type": "code",
   "execution_count": 5,
   "id": "6f5bcc62",
   "metadata": {},
   "outputs": [
    {
     "name": "stdout",
     "output_type": "stream",
     "text": [
      "<class 'pandas.core.frame.DataFrame'>\n",
      "RangeIndex: 34883 entries, 0 to 34882\n",
      "Data columns (total 8 columns):\n",
      " #   Column     Non-Null Count  Dtype  \n",
      "---  ------     --------------  -----  \n",
      " 0   ticker     34883 non-null  object \n",
      " 1   commodity  34883 non-null  object \n",
      " 2   date       34883 non-null  object \n",
      " 3   open       34883 non-null  float64\n",
      " 4   high       34883 non-null  float64\n",
      " 5   low        34883 non-null  float64\n",
      " 6   close      34883 non-null  float64\n",
      " 7   volume     34883 non-null  int64  \n",
      "dtypes: float64(4), int64(1), object(3)\n",
      "memory usage: 2.1+ MB\n"
     ]
    }
   ],
   "source": [
    "data.info()"
   ]
  },
  {
   "cell_type": "code",
   "execution_count": 6,
   "id": "5400eaaa",
   "metadata": {},
   "outputs": [
    {
     "data": {
      "text/html": [
       "<div>\n",
       "<style scoped>\n",
       "    .dataframe tbody tr th:only-of-type {\n",
       "        vertical-align: middle;\n",
       "    }\n",
       "\n",
       "    .dataframe tbody tr th {\n",
       "        vertical-align: top;\n",
       "    }\n",
       "\n",
       "    .dataframe thead th {\n",
       "        text-align: right;\n",
       "    }\n",
       "</style>\n",
       "<table border=\"1\" class=\"dataframe\">\n",
       "  <thead>\n",
       "    <tr style=\"text-align: right;\">\n",
       "      <th></th>\n",
       "      <th>open</th>\n",
       "      <th>high</th>\n",
       "      <th>low</th>\n",
       "      <th>close</th>\n",
       "      <th>volume</th>\n",
       "    </tr>\n",
       "  </thead>\n",
       "  <tbody>\n",
       "    <tr>\n",
       "      <th>count</th>\n",
       "      <td>34883.000000</td>\n",
       "      <td>34883.000000</td>\n",
       "      <td>34883.000000</td>\n",
       "      <td>34883.000000</td>\n",
       "      <td>34883.000000</td>\n",
       "    </tr>\n",
       "    <tr>\n",
       "      <th>mean</th>\n",
       "      <td>573.890888</td>\n",
       "      <td>579.401570</td>\n",
       "      <td>568.530326</td>\n",
       "      <td>573.880280</td>\n",
       "      <td>27606.105008</td>\n",
       "    </tr>\n",
       "    <tr>\n",
       "      <th>std</th>\n",
       "      <td>458.921582</td>\n",
       "      <td>463.500174</td>\n",
       "      <td>454.580653</td>\n",
       "      <td>458.949972</td>\n",
       "      <td>52347.602634</td>\n",
       "    </tr>\n",
       "    <tr>\n",
       "      <th>min</th>\n",
       "      <td>14.400000</td>\n",
       "      <td>14.410000</td>\n",
       "      <td>14.380000</td>\n",
       "      <td>14.380000</td>\n",
       "      <td>0.000000</td>\n",
       "    </tr>\n",
       "    <tr>\n",
       "      <th>25%</th>\n",
       "      <td>224.500000</td>\n",
       "      <td>226.500000</td>\n",
       "      <td>222.250000</td>\n",
       "      <td>224.250000</td>\n",
       "      <td>78.000000</td>\n",
       "    </tr>\n",
       "    <tr>\n",
       "      <th>50%</th>\n",
       "      <td>435.500000</td>\n",
       "      <td>439.000000</td>\n",
       "      <td>431.750000</td>\n",
       "      <td>435.750000</td>\n",
       "      <td>867.000000</td>\n",
       "    </tr>\n",
       "    <tr>\n",
       "      <th>75%</th>\n",
       "      <td>878.000000</td>\n",
       "      <td>886.500000</td>\n",
       "      <td>869.750000</td>\n",
       "      <td>877.125000</td>\n",
       "      <td>28293.500000</td>\n",
       "    </tr>\n",
       "    <tr>\n",
       "      <th>max</th>\n",
       "      <td>2435.000000</td>\n",
       "      <td>2468.500000</td>\n",
       "      <td>2400.000000</td>\n",
       "      <td>2446.000000</td>\n",
       "      <td>523849.000000</td>\n",
       "    </tr>\n",
       "  </tbody>\n",
       "</table>\n",
       "</div>"
      ],
      "text/plain": [
       "               open          high           low         close         volume\n",
       "count  34883.000000  34883.000000  34883.000000  34883.000000   34883.000000\n",
       "mean     573.890888    579.401570    568.530326    573.880280   27606.105008\n",
       "std      458.921582    463.500174    454.580653    458.949972   52347.602634\n",
       "min       14.400000     14.410000     14.380000     14.380000       0.000000\n",
       "25%      224.500000    226.500000    222.250000    224.250000      78.000000\n",
       "50%      435.500000    439.000000    431.750000    435.750000     867.000000\n",
       "75%      878.000000    886.500000    869.750000    877.125000   28293.500000\n",
       "max     2435.000000   2468.500000   2400.000000   2446.000000  523849.000000"
      ]
     },
     "execution_count": 6,
     "metadata": {},
     "output_type": "execute_result"
    }
   ],
   "source": [
    "data.describe()"
   ]
  },
  {
   "cell_type": "code",
   "execution_count": 7,
   "id": "8ee1f7a1",
   "metadata": {},
   "outputs": [],
   "source": [
    "# 1. Which commodity was having the highest opening price for the day?"
   ]
  },
  {
   "cell_type": "code",
   "execution_count": 10,
   "id": "e71822c4",
   "metadata": {},
   "outputs": [
    {
     "data": {
      "text/plain": [
       "2435.0"
      ]
     },
     "execution_count": 10,
     "metadata": {},
     "output_type": "execute_result"
    }
   ],
   "source": [
    "data['open'].max()"
   ]
  },
  {
   "cell_type": "code",
   "execution_count": 12,
   "id": "e96ca547",
   "metadata": {},
   "outputs": [
    {
     "data": {
      "text/html": [
       "<div>\n",
       "<style scoped>\n",
       "    .dataframe tbody tr th:only-of-type {\n",
       "        vertical-align: middle;\n",
       "    }\n",
       "\n",
       "    .dataframe tbody tr th {\n",
       "        vertical-align: top;\n",
       "    }\n",
       "\n",
       "    .dataframe thead th {\n",
       "        text-align: right;\n",
       "    }\n",
       "</style>\n",
       "<table border=\"1\" class=\"dataframe\">\n",
       "  <thead>\n",
       "    <tr style=\"text-align: right;\">\n",
       "      <th></th>\n",
       "      <th>ticker</th>\n",
       "      <th>commodity</th>\n",
       "      <th>date</th>\n",
       "      <th>open</th>\n",
       "      <th>high</th>\n",
       "      <th>low</th>\n",
       "      <th>close</th>\n",
       "      <th>volume</th>\n",
       "    </tr>\n",
       "  </thead>\n",
       "  <tbody>\n",
       "    <tr>\n",
       "      <th>19437</th>\n",
       "      <td>ZR=F</td>\n",
       "      <td>Rough Rice</td>\n",
       "      <td>2008-04-24</td>\n",
       "      <td>2435.0</td>\n",
       "      <td>2468.5</td>\n",
       "      <td>2396.0</td>\n",
       "      <td>2396.0</td>\n",
       "      <td>1218</td>\n",
       "    </tr>\n",
       "  </tbody>\n",
       "</table>\n",
       "</div>"
      ],
      "text/plain": [
       "      ticker   commodity        date    open    high     low   close  volume\n",
       "19437   ZR=F  Rough Rice  2008-04-24  2435.0  2468.5  2396.0  2396.0    1218"
      ]
     },
     "execution_count": 12,
     "metadata": {},
     "output_type": "execute_result"
    }
   ],
   "source": [
    "data.loc[data['open']==2435]"
   ]
  },
  {
   "cell_type": "code",
   "execution_count": 13,
   "id": "2c05680e",
   "metadata": {},
   "outputs": [],
   "source": [
    "# Ans: Rough rice is having highest opening price for the day."
   ]
  },
  {
   "cell_type": "code",
   "execution_count": null,
   "id": "b2e0a30e",
   "metadata": {},
   "outputs": [],
   "source": []
  },
  {
   "cell_type": "code",
   "execution_count": 14,
   "id": "775f8398",
   "metadata": {},
   "outputs": [],
   "source": [
    "# 2.Which commodity price reached  maximum during the trading session?"
   ]
  },
  {
   "cell_type": "code",
   "execution_count": 15,
   "id": "f19e3915",
   "metadata": {},
   "outputs": [
    {
     "data": {
      "text/plain": [
       "2468.5"
      ]
     },
     "execution_count": 15,
     "metadata": {},
     "output_type": "execute_result"
    }
   ],
   "source": [
    "data['high'].max()"
   ]
  },
  {
   "cell_type": "code",
   "execution_count": 16,
   "id": "b6725243",
   "metadata": {},
   "outputs": [
    {
     "data": {
      "text/html": [
       "<div>\n",
       "<style scoped>\n",
       "    .dataframe tbody tr th:only-of-type {\n",
       "        vertical-align: middle;\n",
       "    }\n",
       "\n",
       "    .dataframe tbody tr th {\n",
       "        vertical-align: top;\n",
       "    }\n",
       "\n",
       "    .dataframe thead th {\n",
       "        text-align: right;\n",
       "    }\n",
       "</style>\n",
       "<table border=\"1\" class=\"dataframe\">\n",
       "  <thead>\n",
       "    <tr style=\"text-align: right;\">\n",
       "      <th></th>\n",
       "      <th>ticker</th>\n",
       "      <th>commodity</th>\n",
       "      <th>date</th>\n",
       "      <th>open</th>\n",
       "      <th>high</th>\n",
       "      <th>low</th>\n",
       "      <th>close</th>\n",
       "      <th>volume</th>\n",
       "    </tr>\n",
       "  </thead>\n",
       "  <tbody>\n",
       "    <tr>\n",
       "      <th>19437</th>\n",
       "      <td>ZR=F</td>\n",
       "      <td>Rough Rice</td>\n",
       "      <td>2008-04-24</td>\n",
       "      <td>2435.0</td>\n",
       "      <td>2468.5</td>\n",
       "      <td>2396.0</td>\n",
       "      <td>2396.0</td>\n",
       "      <td>1218</td>\n",
       "    </tr>\n",
       "  </tbody>\n",
       "</table>\n",
       "</div>"
      ],
      "text/plain": [
       "      ticker   commodity        date    open    high     low   close  volume\n",
       "19437   ZR=F  Rough Rice  2008-04-24  2435.0  2468.5  2396.0  2396.0    1218"
      ]
     },
     "execution_count": 16,
     "metadata": {},
     "output_type": "execute_result"
    }
   ],
   "source": [
    "data.loc[data['high']==2468.5]"
   ]
  },
  {
   "cell_type": "code",
   "execution_count": 17,
   "id": "94a57630",
   "metadata": {},
   "outputs": [],
   "source": [
    "# Ans: Rough rice commodity reached maximum during trading session."
   ]
  },
  {
   "cell_type": "code",
   "execution_count": null,
   "id": "54527e8e",
   "metadata": {},
   "outputs": [],
   "source": []
  },
  {
   "cell_type": "code",
   "execution_count": 18,
   "id": "29caca7d",
   "metadata": {},
   "outputs": [],
   "source": [
    "#3. What is the average Market's opening price for the Oat in 2010?"
   ]
  },
  {
   "cell_type": "code",
   "execution_count": 26,
   "id": "2d8136a2",
   "metadata": {},
   "outputs": [],
   "source": [
    "x = ((data['date'].str.contains('2010'))&(data['commodity']=='Oat'))"
   ]
  },
  {
   "cell_type": "code",
   "execution_count": 27,
   "id": "afbf9d00",
   "metadata": {},
   "outputs": [
    {
     "data": {
      "text/plain": [
       "279.51190476190476"
      ]
     },
     "execution_count": 27,
     "metadata": {},
     "output_type": "execute_result"
    }
   ],
   "source": [
    "data.loc[x]['high'].mean()"
   ]
  },
  {
   "cell_type": "code",
   "execution_count": 28,
   "id": "1fb1c75f",
   "metadata": {},
   "outputs": [],
   "source": [
    "# Ans: 279.5 is the average market's opening price for the oat in year 2010."
   ]
  },
  {
   "cell_type": "code",
   "execution_count": null,
   "id": "8fd7c1ea",
   "metadata": {},
   "outputs": [],
   "source": []
  },
  {
   "cell_type": "code",
   "execution_count": 29,
   "id": "d6ef77a6",
   "metadata": {},
   "outputs": [],
   "source": [
    "# 4.What is the maximum and minimum Number of contracts traded during the 2009?"
   ]
  },
  {
   "cell_type": "code",
   "execution_count": 50,
   "id": "0c314f5e",
   "metadata": {},
   "outputs": [],
   "source": [
    "starting_date = pd.to_datetime('2009-01-01')"
   ]
  },
  {
   "cell_type": "code",
   "execution_count": 52,
   "id": "35c45891",
   "metadata": {},
   "outputs": [],
   "source": [
    "ending_date = pd.to_datetime('2009-12-31')"
   ]
  },
  {
   "cell_type": "code",
   "execution_count": 55,
   "id": "6c8cbf69",
   "metadata": {},
   "outputs": [],
   "source": [
    "x1 = data.loc[(data['date']>=starting_date)&(data['date']<=ending_date)]"
   ]
  },
  {
   "cell_type": "code",
   "execution_count": 66,
   "id": "e4b2ce72",
   "metadata": {},
   "outputs": [],
   "source": [
    "x2 = x1.sort_values(by='volume',ascending=True)"
   ]
  },
  {
   "cell_type": "code",
   "execution_count": 76,
   "id": "d80d6d55",
   "metadata": {},
   "outputs": [
    {
     "data": {
      "text/html": [
       "<div>\n",
       "<style scoped>\n",
       "    .dataframe tbody tr th:only-of-type {\n",
       "        vertical-align: middle;\n",
       "    }\n",
       "\n",
       "    .dataframe tbody tr th {\n",
       "        vertical-align: top;\n",
       "    }\n",
       "\n",
       "    .dataframe thead th {\n",
       "        text-align: right;\n",
       "    }\n",
       "</style>\n",
       "<table border=\"1\" class=\"dataframe\">\n",
       "  <thead>\n",
       "    <tr style=\"text-align: right;\">\n",
       "      <th></th>\n",
       "      <th>ticker</th>\n",
       "      <th>commodity</th>\n",
       "      <th>date</th>\n",
       "      <th>open</th>\n",
       "      <th>high</th>\n",
       "      <th>low</th>\n",
       "      <th>close</th>\n",
       "      <th>volume</th>\n",
       "    </tr>\n",
       "  </thead>\n",
       "  <tbody>\n",
       "    <tr>\n",
       "      <th>13896</th>\n",
       "      <td>KE=F</td>\n",
       "      <td>KC HRW Wheat</td>\n",
       "      <td>2009-12-22</td>\n",
       "      <td>516.00</td>\n",
       "      <td>519.25</td>\n",
       "      <td>510.25</td>\n",
       "      <td>517.25</td>\n",
       "      <td>0</td>\n",
       "    </tr>\n",
       "    <tr>\n",
       "      <th>13739</th>\n",
       "      <td>KE=F</td>\n",
       "      <td>KC HRW Wheat</td>\n",
       "      <td>2009-05-11</td>\n",
       "      <td>629.50</td>\n",
       "      <td>629.50</td>\n",
       "      <td>629.50</td>\n",
       "      <td>629.50</td>\n",
       "      <td>0</td>\n",
       "    </tr>\n",
       "    <tr>\n",
       "      <th>13738</th>\n",
       "      <td>KE=F</td>\n",
       "      <td>KC HRW Wheat</td>\n",
       "      <td>2009-05-08</td>\n",
       "      <td>627.00</td>\n",
       "      <td>627.00</td>\n",
       "      <td>627.00</td>\n",
       "      <td>627.00</td>\n",
       "      <td>0</td>\n",
       "    </tr>\n",
       "    <tr>\n",
       "      <th>13737</th>\n",
       "      <td>KE=F</td>\n",
       "      <td>KC HRW Wheat</td>\n",
       "      <td>2009-05-07</td>\n",
       "      <td>608.75</td>\n",
       "      <td>608.75</td>\n",
       "      <td>608.75</td>\n",
       "      <td>608.75</td>\n",
       "      <td>0</td>\n",
       "    </tr>\n",
       "    <tr>\n",
       "      <th>13736</th>\n",
       "      <td>KE=F</td>\n",
       "      <td>KC HRW Wheat</td>\n",
       "      <td>2009-05-06</td>\n",
       "      <td>593.00</td>\n",
       "      <td>595.00</td>\n",
       "      <td>591.25</td>\n",
       "      <td>601.00</td>\n",
       "      <td>0</td>\n",
       "    </tr>\n",
       "    <tr>\n",
       "      <th>...</th>\n",
       "      <td>...</td>\n",
       "      <td>...</td>\n",
       "      <td>...</td>\n",
       "      <td>...</td>\n",
       "      <td>...</td>\n",
       "      <td>...</td>\n",
       "      <td>...</td>\n",
       "      <td>...</td>\n",
       "    </tr>\n",
       "    <tr>\n",
       "      <th>2315</th>\n",
       "      <td>ZC=F</td>\n",
       "      <td>Corn</td>\n",
       "      <td>2009-11-12</td>\n",
       "      <td>392.00</td>\n",
       "      <td>398.25</td>\n",
       "      <td>382.50</td>\n",
       "      <td>390.50</td>\n",
       "      <td>186124</td>\n",
       "    </tr>\n",
       "    <tr>\n",
       "      <th>2313</th>\n",
       "      <td>ZC=F</td>\n",
       "      <td>Corn</td>\n",
       "      <td>2009-11-10</td>\n",
       "      <td>384.00</td>\n",
       "      <td>397.00</td>\n",
       "      <td>379.25</td>\n",
       "      <td>394.50</td>\n",
       "      <td>202202</td>\n",
       "    </tr>\n",
       "    <tr>\n",
       "      <th>2288</th>\n",
       "      <td>ZC=F</td>\n",
       "      <td>Corn</td>\n",
       "      <td>2009-10-06</td>\n",
       "      <td>342.00</td>\n",
       "      <td>370.00</td>\n",
       "      <td>342.00</td>\n",
       "      <td>358.25</td>\n",
       "      <td>213787</td>\n",
       "    </tr>\n",
       "    <tr>\n",
       "      <th>2314</th>\n",
       "      <td>ZC=F</td>\n",
       "      <td>Corn</td>\n",
       "      <td>2009-11-11</td>\n",
       "      <td>393.25</td>\n",
       "      <td>403.00</td>\n",
       "      <td>391.50</td>\n",
       "      <td>394.00</td>\n",
       "      <td>246000</td>\n",
       "    </tr>\n",
       "    <tr>\n",
       "      <th>2273</th>\n",
       "      <td>ZC=F</td>\n",
       "      <td>Corn</td>\n",
       "      <td>2009-09-15</td>\n",
       "      <td>317.00</td>\n",
       "      <td>347.75</td>\n",
       "      <td>316.00</td>\n",
       "      <td>346.50</td>\n",
       "      <td>252221</td>\n",
       "    </tr>\n",
       "  </tbody>\n",
       "</table>\n",
       "<p>1500 rows × 8 columns</p>\n",
       "</div>"
      ],
      "text/plain": [
       "      ticker     commodity       date    open    high     low   close  volume\n",
       "13896   KE=F  KC HRW Wheat 2009-12-22  516.00  519.25  510.25  517.25       0\n",
       "13739   KE=F  KC HRW Wheat 2009-05-11  629.50  629.50  629.50  629.50       0\n",
       "13738   KE=F  KC HRW Wheat 2009-05-08  627.00  627.00  627.00  627.00       0\n",
       "13737   KE=F  KC HRW Wheat 2009-05-07  608.75  608.75  608.75  608.75       0\n",
       "13736   KE=F  KC HRW Wheat 2009-05-06  593.00  595.00  591.25  601.00       0\n",
       "...      ...           ...        ...     ...     ...     ...     ...     ...\n",
       "2315    ZC=F          Corn 2009-11-12  392.00  398.25  382.50  390.50  186124\n",
       "2313    ZC=F          Corn 2009-11-10  384.00  397.00  379.25  394.50  202202\n",
       "2288    ZC=F          Corn 2009-10-06  342.00  370.00  342.00  358.25  213787\n",
       "2314    ZC=F          Corn 2009-11-11  393.25  403.00  391.50  394.00  246000\n",
       "2273    ZC=F          Corn 2009-09-15  317.00  347.75  316.00  346.50  252221\n",
       "\n",
       "[1500 rows x 8 columns]"
      ]
     },
     "execution_count": 76,
     "metadata": {},
     "output_type": "execute_result"
    }
   ],
   "source": [
    "x2"
   ]
  },
  {
   "cell_type": "code",
   "execution_count": 75,
   "id": "1ca38ac7",
   "metadata": {},
   "outputs": [
    {
     "data": {
      "text/html": [
       "<div>\n",
       "<style scoped>\n",
       "    .dataframe tbody tr th:only-of-type {\n",
       "        vertical-align: middle;\n",
       "    }\n",
       "\n",
       "    .dataframe tbody tr th {\n",
       "        vertical-align: top;\n",
       "    }\n",
       "\n",
       "    .dataframe thead th {\n",
       "        text-align: right;\n",
       "    }\n",
       "</style>\n",
       "<table border=\"1\" class=\"dataframe\">\n",
       "  <thead>\n",
       "    <tr style=\"text-align: right;\">\n",
       "      <th></th>\n",
       "      <th>ticker</th>\n",
       "      <th>commodity</th>\n",
       "      <th>date</th>\n",
       "      <th>open</th>\n",
       "      <th>high</th>\n",
       "      <th>low</th>\n",
       "      <th>close</th>\n",
       "      <th>volume</th>\n",
       "    </tr>\n",
       "  </thead>\n",
       "  <tbody>\n",
       "    <tr>\n",
       "      <th>2315</th>\n",
       "      <td>ZC=F</td>\n",
       "      <td>Corn</td>\n",
       "      <td>2009-11-12</td>\n",
       "      <td>392.00</td>\n",
       "      <td>398.25</td>\n",
       "      <td>382.50</td>\n",
       "      <td>390.50</td>\n",
       "      <td>186124</td>\n",
       "    </tr>\n",
       "    <tr>\n",
       "      <th>2313</th>\n",
       "      <td>ZC=F</td>\n",
       "      <td>Corn</td>\n",
       "      <td>2009-11-10</td>\n",
       "      <td>384.00</td>\n",
       "      <td>397.00</td>\n",
       "      <td>379.25</td>\n",
       "      <td>394.50</td>\n",
       "      <td>202202</td>\n",
       "    </tr>\n",
       "    <tr>\n",
       "      <th>2288</th>\n",
       "      <td>ZC=F</td>\n",
       "      <td>Corn</td>\n",
       "      <td>2009-10-06</td>\n",
       "      <td>342.00</td>\n",
       "      <td>370.00</td>\n",
       "      <td>342.00</td>\n",
       "      <td>358.25</td>\n",
       "      <td>213787</td>\n",
       "    </tr>\n",
       "    <tr>\n",
       "      <th>2314</th>\n",
       "      <td>ZC=F</td>\n",
       "      <td>Corn</td>\n",
       "      <td>2009-11-11</td>\n",
       "      <td>393.25</td>\n",
       "      <td>403.00</td>\n",
       "      <td>391.50</td>\n",
       "      <td>394.00</td>\n",
       "      <td>246000</td>\n",
       "    </tr>\n",
       "    <tr>\n",
       "      <th>2273</th>\n",
       "      <td>ZC=F</td>\n",
       "      <td>Corn</td>\n",
       "      <td>2009-09-15</td>\n",
       "      <td>317.00</td>\n",
       "      <td>347.75</td>\n",
       "      <td>316.00</td>\n",
       "      <td>346.50</td>\n",
       "      <td>252221</td>\n",
       "    </tr>\n",
       "  </tbody>\n",
       "</table>\n",
       "</div>"
      ],
      "text/plain": [
       "     ticker commodity       date    open    high     low   close  volume\n",
       "2315   ZC=F      Corn 2009-11-12  392.00  398.25  382.50  390.50  186124\n",
       "2313   ZC=F      Corn 2009-11-10  384.00  397.00  379.25  394.50  202202\n",
       "2288   ZC=F      Corn 2009-10-06  342.00  370.00  342.00  358.25  213787\n",
       "2314   ZC=F      Corn 2009-11-11  393.25  403.00  391.50  394.00  246000\n",
       "2273   ZC=F      Corn 2009-09-15  317.00  347.75  316.00  346.50  252221"
      ]
     },
     "execution_count": 75,
     "metadata": {},
     "output_type": "execute_result"
    }
   ],
   "source": [
    "x2.tail(5)"
   ]
  },
  {
   "cell_type": "code",
   "execution_count": 77,
   "id": "94f41351",
   "metadata": {},
   "outputs": [],
   "source": [
    "# Ams: 252221 is the highest no.of contracts traded during 2009.\n",
    "#      0 is the lowest no.0f conracts traded during 2009."
   ]
  },
  {
   "cell_type": "code",
   "execution_count": null,
   "id": "42112d0e",
   "metadata": {},
   "outputs": [],
   "source": []
  },
  {
   "cell_type": "code",
   "execution_count": 78,
   "id": "b7de4441",
   "metadata": {},
   "outputs": [],
   "source": [
    "# 5. Which year have  maximum and minimum Number of contracts traded ?"
   ]
  },
  {
   "cell_type": "code",
   "execution_count": 86,
   "id": "13d93055",
   "metadata": {},
   "outputs": [
    {
     "data": {
      "text/plain": [
       "array([2000, 2001, 2002, 2003, 2004, 2005, 2006, 2007, 2008, 2009, 2010,\n",
       "       2011, 2012, 2013, 2014, 2015, 2016, 2017, 2018, 2019, 2020, 2021,\n",
       "       2022, 2023], dtype=int64)"
      ]
     },
     "execution_count": 86,
     "metadata": {},
     "output_type": "execute_result"
    }
   ],
   "source": [
    "data['date'].dt.year.unique()"
   ]
  },
  {
   "cell_type": "code",
   "execution_count": 104,
   "id": "7beedef4",
   "metadata": {},
   "outputs": [],
   "source": [
    "x1=((data['date']>='2000-01-01')&(data['date']<='2000-12-31')) # 2000"
   ]
  },
  {
   "cell_type": "code",
   "execution_count": 105,
   "id": "b57a3a97",
   "metadata": {},
   "outputs": [
    {
     "data": {
      "text/plain": [
       "2378.673349056604"
      ]
     },
     "execution_count": 105,
     "metadata": {},
     "output_type": "execute_result"
    }
   ],
   "source": [
    "data.loc[x1]['volume'].mean()"
   ]
  },
  {
   "cell_type": "code",
   "execution_count": 108,
   "id": "6c416ce5",
   "metadata": {},
   "outputs": [],
   "source": [
    "x2=((data['date']>='2001-01-01')&(data['date']<='2001-12-31')) # 2001"
   ]
  },
  {
   "cell_type": "code",
   "execution_count": 109,
   "id": "bbf4efad",
   "metadata": {},
   "outputs": [
    {
     "data": {
      "text/plain": [
       "798.5369127516778"
      ]
     },
     "execution_count": 109,
     "metadata": {},
     "output_type": "execute_result"
    }
   ],
   "source": [
    "data.loc[x2]['volume'].mean()"
   ]
  },
  {
   "cell_type": "code",
   "execution_count": 110,
   "id": "41177339",
   "metadata": {},
   "outputs": [],
   "source": [
    "x3 = ((data['date']>='2002-01-01')&(data['date']<='2002-12-31')) #2002"
   ]
  },
  {
   "cell_type": "code",
   "execution_count": 111,
   "id": "0c4eb9cb",
   "metadata": {},
   "outputs": [
    {
     "data": {
      "text/plain": [
       "786.4114896459586"
      ]
     },
     "execution_count": 111,
     "metadata": {},
     "output_type": "execute_result"
    }
   ],
   "source": [
    "data.loc[x3]['volume'].mean()"
   ]
  },
  {
   "cell_type": "code",
   "execution_count": 112,
   "id": "0fe48ac7",
   "metadata": {},
   "outputs": [],
   "source": [
    "x4=((data['date']>='2003-01-01')&(data['date']<='2003-12-31')) # 2003"
   ]
  },
  {
   "cell_type": "code",
   "execution_count": 113,
   "id": "4a1acf24",
   "metadata": {},
   "outputs": [
    {
     "data": {
      "text/plain": [
       "1882.8823529411766"
      ]
     },
     "execution_count": 113,
     "metadata": {},
     "output_type": "execute_result"
    }
   ],
   "source": [
    "data.loc[x4]['volume'].mean()"
   ]
  },
  {
   "cell_type": "code",
   "execution_count": 116,
   "id": "8db05369",
   "metadata": {},
   "outputs": [],
   "source": [
    "x5=((data['date']>='2004-01-01')&(data['date']<='2004-12-31'))# 2004"
   ]
  },
  {
   "cell_type": "code",
   "execution_count": 118,
   "id": "d9c23c19",
   "metadata": {},
   "outputs": [
    {
     "data": {
      "text/plain": [
       "944.6906807666887"
      ]
     },
     "execution_count": 118,
     "metadata": {},
     "output_type": "execute_result"
    }
   ],
   "source": [
    "data.loc[x5]['volume'].mean()"
   ]
  },
  {
   "cell_type": "code",
   "execution_count": 119,
   "id": "e4e74652",
   "metadata": {},
   "outputs": [],
   "source": [
    "x6=((data['date']>='2005-01-01')&(data['date']<='2005-12-31')) # 2005"
   ]
  },
  {
   "cell_type": "code",
   "execution_count": 120,
   "id": "e096811e",
   "metadata": {},
   "outputs": [
    {
     "data": {
      "text/plain": [
       "353.58404746209624"
      ]
     },
     "execution_count": 120,
     "metadata": {},
     "output_type": "execute_result"
    }
   ],
   "source": [
    "data.loc[x6]['volume'].mean()"
   ]
  },
  {
   "cell_type": "code",
   "execution_count": 124,
   "id": "ad6ab7f6",
   "metadata": {},
   "outputs": [],
   "source": [
    "x7=((data['date']>='2006-01-01')&(data['date']<='2006-12-31')) # 2006"
   ]
  },
  {
   "cell_type": "code",
   "execution_count": 125,
   "id": "8e387d26",
   "metadata": {},
   "outputs": [
    {
     "data": {
      "text/plain": [
       "4374.30443414957"
      ]
     },
     "execution_count": 125,
     "metadata": {},
     "output_type": "execute_result"
    }
   ],
   "source": [
    "data.loc[x7]['volume'].mean()"
   ]
  },
  {
   "cell_type": "code",
   "execution_count": 126,
   "id": "f32f551a",
   "metadata": {},
   "outputs": [],
   "source": [
    "x8=((data['date']>='2007-01-01')&(data['date']<='2007-12-31')) # 2007"
   ]
  },
  {
   "cell_type": "code",
   "execution_count": 127,
   "id": "e4f7807f",
   "metadata": {},
   "outputs": [
    {
     "data": {
      "text/plain": [
       "16147.98673740053"
      ]
     },
     "execution_count": 127,
     "metadata": {},
     "output_type": "execute_result"
    }
   ],
   "source": [
    "data.loc[x8]['volume'].mean()"
   ]
  },
  {
   "cell_type": "code",
   "execution_count": 128,
   "id": "c3b8ad4f",
   "metadata": {},
   "outputs": [],
   "source": [
    "x9=((data['date']>='2008-01-01')&(data['date']<='2008-12-31')) # 2008"
   ]
  },
  {
   "cell_type": "code",
   "execution_count": 129,
   "id": "1624a5fa",
   "metadata": {},
   "outputs": [
    {
     "data": {
      "text/plain": [
       "28096.3511198946"
      ]
     },
     "execution_count": 129,
     "metadata": {},
     "output_type": "execute_result"
    }
   ],
   "source": [
    "data.loc[x9]['volume'].mean()"
   ]
  },
  {
   "cell_type": "code",
   "execution_count": 130,
   "id": "d78dea5c",
   "metadata": {},
   "outputs": [],
   "source": [
    "x10=((data['date']>='2009-01-01')&(data['date']<='2009-12-31')) # 2009"
   ]
  },
  {
   "cell_type": "code",
   "execution_count": 131,
   "id": "6fa29630",
   "metadata": {},
   "outputs": [
    {
     "data": {
      "text/plain": [
       "28108.638666666666"
      ]
     },
     "execution_count": 131,
     "metadata": {},
     "output_type": "execute_result"
    }
   ],
   "source": [
    "data.loc[x10]['volume'].mean()"
   ]
  },
  {
   "cell_type": "code",
   "execution_count": 132,
   "id": "34b6a1f1",
   "metadata": {},
   "outputs": [],
   "source": [
    "x11=((data['date']>='2010-01-01')&(data['date']<='2010-12-31')) # 2010"
   ]
  },
  {
   "cell_type": "code",
   "execution_count": 133,
   "id": "dc8b29e7",
   "metadata": {},
   "outputs": [
    {
     "data": {
      "text/plain": [
       "32178.257275132277"
      ]
     },
     "execution_count": 133,
     "metadata": {},
     "output_type": "execute_result"
    }
   ],
   "source": [
    "data.loc[x11]['volume'].mean()"
   ]
  },
  {
   "cell_type": "code",
   "execution_count": 134,
   "id": "6d5b6c30",
   "metadata": {},
   "outputs": [],
   "source": [
    "x12=((data['date']>='2011-01-01')&(data['date']<='2011-12-31')) # 2011"
   ]
  },
  {
   "cell_type": "code",
   "execution_count": 135,
   "id": "74f03023",
   "metadata": {},
   "outputs": [
    {
     "data": {
      "text/plain": [
       "37446.49272486773"
      ]
     },
     "execution_count": 135,
     "metadata": {},
     "output_type": "execute_result"
    }
   ],
   "source": [
    "data.loc[x12]['volume'].mean()"
   ]
  },
  {
   "cell_type": "code",
   "execution_count": 136,
   "id": "b189129a",
   "metadata": {},
   "outputs": [],
   "source": [
    "x13=((data['date']>='2012-01-01')&(data['date']<='2012-12-31')) # 2012"
   ]
  },
  {
   "cell_type": "code",
   "execution_count": 137,
   "id": "4c62d626",
   "metadata": {},
   "outputs": [
    {
     "data": {
      "text/plain": [
       "36739.109333333334"
      ]
     },
     "execution_count": 137,
     "metadata": {},
     "output_type": "execute_result"
    }
   ],
   "source": [
    "data.loc[x13]['volume'].mean()"
   ]
  },
  {
   "cell_type": "code",
   "execution_count": 138,
   "id": "18c2165a",
   "metadata": {},
   "outputs": [],
   "source": [
    "x14=((data['date']>='2013-01-01')&(data['date']<='2013-12-31')) # 2013"
   ]
  },
  {
   "cell_type": "code",
   "execution_count": 139,
   "id": "3903676a",
   "metadata": {},
   "outputs": [
    {
     "data": {
      "text/plain": [
       "33429.82671957672"
      ]
     },
     "execution_count": 139,
     "metadata": {},
     "output_type": "execute_result"
    }
   ],
   "source": [
    "data.loc[x14]['volume'].mean()"
   ]
  },
  {
   "cell_type": "code",
   "execution_count": 140,
   "id": "5107c6db",
   "metadata": {},
   "outputs": [],
   "source": [
    "x15=((data['date']>='2014-01-01')&(data['date']<='2014-12-31')) # 2014"
   ]
  },
  {
   "cell_type": "code",
   "execution_count": 141,
   "id": "0ead7079",
   "metadata": {},
   "outputs": [
    {
     "data": {
      "text/plain": [
       "36046.36574074074"
      ]
     },
     "execution_count": 141,
     "metadata": {},
     "output_type": "execute_result"
    }
   ],
   "source": [
    "data.loc[x15]['volume'].mean()"
   ]
  },
  {
   "cell_type": "code",
   "execution_count": 143,
   "id": "8d46affc",
   "metadata": {},
   "outputs": [],
   "source": [
    "x16=((data['date']>='2015-01-01')&(data['date']<='2015-12-31')) # 2015"
   ]
  },
  {
   "cell_type": "code",
   "execution_count": 144,
   "id": "f5cbf47d",
   "metadata": {},
   "outputs": [
    {
     "data": {
      "text/plain": [
       "42472.61706349206"
      ]
     },
     "execution_count": 144,
     "metadata": {},
     "output_type": "execute_result"
    }
   ],
   "source": [
    "data.loc[x16]['volume'].mean()"
   ]
  },
  {
   "cell_type": "code",
   "execution_count": 145,
   "id": "5814d00c",
   "metadata": {},
   "outputs": [],
   "source": [
    "x17=((data['date']>='2016-01-01')&(data['date']<='2016-12-31')) # 2016"
   ]
  },
  {
   "cell_type": "code",
   "execution_count": 146,
   "id": "18a9fe72",
   "metadata": {},
   "outputs": [
    {
     "data": {
      "text/plain": [
       "46004.024"
      ]
     },
     "execution_count": 146,
     "metadata": {},
     "output_type": "execute_result"
    }
   ],
   "source": [
    "data.loc[x17]['volume'].mean()"
   ]
  },
  {
   "cell_type": "code",
   "execution_count": 147,
   "id": "15f8c3cb",
   "metadata": {},
   "outputs": [],
   "source": [
    "x18=((data['date']>='2017-01-01')&(data['date']<='2017-12-31')) # 2017"
   ]
  },
  {
   "cell_type": "code",
   "execution_count": 148,
   "id": "200d2cbc",
   "metadata": {},
   "outputs": [
    {
     "data": {
      "text/plain": [
       "46268.8240371846"
      ]
     },
     "execution_count": 148,
     "metadata": {},
     "output_type": "execute_result"
    }
   ],
   "source": [
    "data.loc[x18]['volume'].mean()"
   ]
  },
  {
   "cell_type": "code",
   "execution_count": 149,
   "id": "aac35b26",
   "metadata": {},
   "outputs": [],
   "source": [
    "x19=((data['date']>='2018-01-01')&(data['date']<='2018-12-31')) # 2018"
   ]
  },
  {
   "cell_type": "code",
   "execution_count": 150,
   "id": "581fe972",
   "metadata": {},
   "outputs": [
    {
     "data": {
      "text/plain": [
       "48157.38497340425"
      ]
     },
     "execution_count": 150,
     "metadata": {},
     "output_type": "execute_result"
    }
   ],
   "source": [
    "data.loc[x19]['volume'].mean()"
   ]
  },
  {
   "cell_type": "code",
   "execution_count": 151,
   "id": "7256c364",
   "metadata": {},
   "outputs": [],
   "source": [
    "x20=((data['date']>='2019-01-01')&(data['date']<='2019-12-31')) # 2019"
   ]
  },
  {
   "cell_type": "code",
   "execution_count": 152,
   "id": "8138c8de",
   "metadata": {},
   "outputs": [
    {
     "data": {
      "text/plain": [
       "48972.294"
      ]
     },
     "execution_count": 152,
     "metadata": {},
     "output_type": "execute_result"
    }
   ],
   "source": [
    "data.loc[x20]['volume'].mean()"
   ]
  },
  {
   "cell_type": "code",
   "execution_count": 153,
   "id": "4e23e3a7",
   "metadata": {},
   "outputs": [],
   "source": [
    "x21=((data['date']>='2020-01-01')&(data['date']<='2020-12-31')) # 2020"
   ]
  },
  {
   "cell_type": "code",
   "execution_count": 154,
   "id": "f0198aa2",
   "metadata": {},
   "outputs": [
    {
     "data": {
      "text/plain": [
       "44770.63570487483"
      ]
     },
     "execution_count": 154,
     "metadata": {},
     "output_type": "execute_result"
    }
   ],
   "source": [
    "data.loc[x21]['volume'].mean()"
   ]
  },
  {
   "cell_type": "code",
   "execution_count": 155,
   "id": "0f19b176",
   "metadata": {},
   "outputs": [],
   "source": [
    "x22=((data['date']>='2021-01-01')&(data['date']<='2021-12-31')) # 2021"
   ]
  },
  {
   "cell_type": "code",
   "execution_count": 156,
   "id": "d145aa50",
   "metadata": {},
   "outputs": [
    {
     "data": {
      "text/plain": [
       "40163.46296296296"
      ]
     },
     "execution_count": 156,
     "metadata": {},
     "output_type": "execute_result"
    }
   ],
   "source": [
    "data.loc[x22]['vox22=((data['date']>='2021-01-01')&(data['date']<='2021-12-31')) # 2021lume'].mean()"
   ]
  },
  {
   "cell_type": "code",
   "execution_count": 157,
   "id": "1750d317",
   "metadata": {},
   "outputs": [],
   "source": [
    "x23=((data['data.loc[x23]['volume'].mean()date']>='2022-01-01')&(data['date']<='2022-12-31')) # 2022"
   ]
  },
  {
   "cell_type": "code",
   "execution_count": 158,
   "id": "a69cb324",
   "metadata": {},
   "outputs": [
    {
     "data": {
      "text/plain": [
       "36409.47543160691"
      ]
     },
     "execution_count": 158,
     "metadata": {},
     "output_type": "execute_result"
    }
   ],
   "source": [
    "data.loc[x23]['volume'].mean()"
   ]
  },
  {
   "cell_type": "code",
   "execution_count": 159,
   "id": "77af247c",
   "metadata": {},
   "outputs": [],
   "source": [
    "x24=((data['date']>='2023-01-01')&(data['date']<='2023-12-31')) # 2023"
   ]
  },
  {
   "cell_type": "code",
   "execution_count": 160,
   "id": "deb0a337",
   "metadata": {},
   "outputs": [
    {
     "data": {
      "text/plain": [
       "38119.15725047081"
      ]
     },
     "execution_count": 160,
     "metadata": {},
     "output_type": "execute_result"
    }
   ],
   "source": [
    "data.loc[x24]['volume'].mean()"
   ]
  },
  {
   "cell_type": "code",
   "execution_count": 164,
   "id": "126d5859",
   "metadata": {},
   "outputs": [],
   "source": [
    "# Ans : 2005 has minimum contracts traded with an average of 354 contracts\n",
    "# Ans : 2019 has maximum contracts traded with an average of 48972 contracts"
   ]
  },
  {
   "cell_type": "code",
   "execution_count": null,
   "id": "b21f0847",
   "metadata": {},
   "outputs": [],
   "source": []
  },
  {
   "cell_type": "code",
   "execution_count": 165,
   "id": "0685510c",
   "metadata": {},
   "outputs": [],
   "source": [
    "# 6.Which commodity have the average lowest opening price around 2001 to 2005?"
   ]
  },
  {
   "cell_type": "code",
   "execution_count": 192,
   "id": "c3d7e93f",
   "metadata": {},
   "outputs": [],
   "source": [
    "dt1 = (data['date']>='2001-01-01')&(data['date']<='2005-12-31')"
   ]
  },
  {
   "cell_type": "code",
   "execution_count": 193,
   "id": "0576362d",
   "metadata": {},
   "outputs": [],
   "source": [
    "dt2 = data.loc[dt1]"
   ]
  },
  {
   "cell_type": "code",
   "execution_count": 194,
   "id": "1a5e9074",
   "metadata": {},
   "outputs": [],
   "source": [
    "dt3 = dt2.groupby('commodity')"
   ]
  },
  {
   "cell_type": "code",
   "execution_count": 196,
   "id": "d36b9b82",
   "metadata": {},
   "outputs": [
    {
     "data": {
      "text/plain": [
       "commodity\n",
       "Corn            226.167136\n",
       "KC HRW Wheat    343.651033\n",
       "Oat             159.646309\n",
       "Rough Rice      616.746411\n",
       "Soybean         594.099841\n",
       "Soybean Oil      21.416110\n",
       "Name: open, dtype: float64"
      ]
     },
     "execution_count": 196,
     "metadata": {},
     "output_type": "execute_result"
    }
   ],
   "source": [
    "dt3['open'].mean()"
   ]
  },
  {
   "cell_type": "code",
   "execution_count": 197,
   "id": "1e3719b5",
   "metadata": {},
   "outputs": [],
   "source": [
    "# Ans : Soyabeen oil have the aaverage lowest opening price with 21.41 in the year between 2001 to 2005 "
   ]
  },
  {
   "cell_type": "code",
   "execution_count": null,
   "id": "027eae7d",
   "metadata": {},
   "outputs": [],
   "source": []
  },
  {
   "cell_type": "code",
   "execution_count": null,
   "id": "282a2cfe",
   "metadata": {},
   "outputs": [],
   "source": [
    "#7. Which commodity have the best average  Market's closing price?"
   ]
  },
  {
   "cell_type": "code",
   "execution_count": 198,
   "id": "841c19d2",
   "metadata": {},
   "outputs": [],
   "source": [
    "z = data.groupby('commodity')"
   ]
  },
  {
   "cell_type": "code",
   "execution_count": 201,
   "id": "86f28d27",
   "metadata": {},
   "outputs": [
    {
     "data": {
      "text/plain": [
       "commodity\n",
       "Corn             409.404772\n",
       "KC HRW Wheat     563.693282\n",
       "Oat              278.657674\n",
       "Rough Rice      1143.607925\n",
       "Soybean          998.015728\n",
       "Soybean Oil       36.820361\n",
       "Name: close, dtype: float64"
      ]
     },
     "execution_count": 201,
     "metadata": {},
     "output_type": "execute_result"
    }
   ],
   "source": [
    "z['close'].mean()"
   ]
  },
  {
   "cell_type": "code",
   "execution_count": 202,
   "id": "cd6524c1",
   "metadata": {},
   "outputs": [],
   "source": [
    "# Ans: Rough rice have best average market's closing price with 1143.6"
   ]
  },
  {
   "cell_type": "code",
   "execution_count": null,
   "id": "af598822",
   "metadata": {},
   "outputs": [],
   "source": []
  },
  {
   "cell_type": "code",
   "execution_count": 203,
   "id": "c7b1b906",
   "metadata": {},
   "outputs": [],
   "source": [
    "#8.Which year corn have the highest and lowest Number of contracts traded?"
   ]
  },
  {
   "cell_type": "code",
   "execution_count": 210,
   "id": "07a2630d",
   "metadata": {},
   "outputs": [
    {
     "data": {
      "text/plain": [
       "523849"
      ]
     },
     "execution_count": 210,
     "metadata": {},
     "output_type": "execute_result"
    }
   ],
   "source": [
    "z['volume'].max().loc['Corn']"
   ]
  },
  {
   "cell_type": "code",
   "execution_count": 213,
   "id": "12ae2d26",
   "metadata": {},
   "outputs": [
    {
     "data": {
      "text/html": [
       "<div>\n",
       "<style scoped>\n",
       "    .dataframe tbody tr th:only-of-type {\n",
       "        vertical-align: middle;\n",
       "    }\n",
       "\n",
       "    .dataframe tbody tr th {\n",
       "        vertical-align: top;\n",
       "    }\n",
       "\n",
       "    .dataframe thead th {\n",
       "        text-align: right;\n",
       "    }\n",
       "</style>\n",
       "<table border=\"1\" class=\"dataframe\">\n",
       "  <thead>\n",
       "    <tr style=\"text-align: right;\">\n",
       "      <th></th>\n",
       "      <th>ticker</th>\n",
       "      <th>commodity</th>\n",
       "      <th>date</th>\n",
       "      <th>open</th>\n",
       "      <th>high</th>\n",
       "      <th>low</th>\n",
       "      <th>close</th>\n",
       "      <th>volume</th>\n",
       "    </tr>\n",
       "  </thead>\n",
       "  <tbody>\n",
       "    <tr>\n",
       "      <th>4216</th>\n",
       "      <td>ZC=F</td>\n",
       "      <td>Corn</td>\n",
       "      <td>2017-06-07</td>\n",
       "      <td>378.25</td>\n",
       "      <td>387.0</td>\n",
       "      <td>378.25</td>\n",
       "      <td>384.75</td>\n",
       "      <td>523849</td>\n",
       "    </tr>\n",
       "  </tbody>\n",
       "</table>\n",
       "</div>"
      ],
      "text/plain": [
       "     ticker commodity       date    open   high     low   close  volume\n",
       "4216   ZC=F      Corn 2017-06-07  378.25  387.0  378.25  384.75  523849"
      ]
     },
     "execution_count": 213,
     "metadata": {},
     "output_type": "execute_result"
    }
   ],
   "source": [
    "data.loc[data['volume']==523849]"
   ]
  },
  {
   "cell_type": "code",
   "execution_count": 215,
   "id": "c95f5879",
   "metadata": {},
   "outputs": [],
   "source": [
    "y = (data['commodity']=='Corn')&(data['volume']==0)"
   ]
  },
  {
   "cell_type": "code",
   "execution_count": 216,
   "id": "9027b580",
   "metadata": {},
   "outputs": [
    {
     "data": {
      "text/plain": [
       "821    2003-12-11\n",
       "1328   2005-12-13\n",
       "4486   2018-07-03\n",
       "4528   2018-08-31\n",
       "5682   2023-04-06\n",
       "Name: date, dtype: datetime64[ns]"
      ]
     },
     "execution_count": 216,
     "metadata": {},
     "output_type": "execute_result"
    }
   ],
   "source": [
    "data.loc[y]['date']"
   ]
  },
  {
   "cell_type": "code",
   "execution_count": 217,
   "id": "30401dfb",
   "metadata": {},
   "outputs": [],
   "source": [
    "# Ans: 2017-06-07 on this date corn has highest no.of contracts traded.\n",
    "#      2003-12-13, 2005-12-13, 2018-07-03, 2018-08-31, 2023-04-06 on this dates corn has lowest no.of trading done."
   ]
  },
  {
   "cell_type": "code",
   "execution_count": null,
   "id": "14d7eb10",
   "metadata": {},
   "outputs": [],
   "source": []
  }
 ],
 "metadata": {
  "kernelspec": {
   "display_name": "Python 3 (ipykernel)",
   "language": "python",
   "name": "python3"
  },
  "language_info": {
   "codemirror_mode": {
    "name": "ipython",
    "version": 3
   },
   "file_extension": ".py",
   "mimetype": "text/x-python",
   "name": "python",
   "nbconvert_exporter": "python",
   "pygments_lexer": "ipython3",
   "version": "3.11.3"
  }
 },
 "nbformat": 4,
 "nbformat_minor": 5
}
