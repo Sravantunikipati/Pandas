{
 "cells": [
  {
   "cell_type": "code",
   "execution_count": 1,
   "id": "e432336a",
   "metadata": {},
   "outputs": [],
   "source": [
    "import numpy as np\n",
    "import pandas as pd"
   ]
  },
  {
   "cell_type": "code",
   "execution_count": 2,
   "id": "9ab99d1d",
   "metadata": {},
   "outputs": [],
   "source": [
    "dt = pd.read_csv(r\"C:\\Users\\srava\\Downloads\\cleaned_all_phones.csv\")"
   ]
  },
  {
   "cell_type": "code",
   "execution_count": 10,
   "id": "80510ec6",
   "metadata": {},
   "outputs": [
    {
     "data": {
      "text/html": [
       "<div>\n",
       "<style scoped>\n",
       "    .dataframe tbody tr th:only-of-type {\n",
       "        vertical-align: middle;\n",
       "    }\n",
       "\n",
       "    .dataframe tbody tr th {\n",
       "        vertical-align: top;\n",
       "    }\n",
       "\n",
       "    .dataframe thead th {\n",
       "        text-align: right;\n",
       "    }\n",
       "</style>\n",
       "<table border=\"1\" class=\"dataframe\">\n",
       "  <thead>\n",
       "    <tr style=\"text-align: right;\">\n",
       "      <th></th>\n",
       "      <th>phone_name</th>\n",
       "      <th>brand</th>\n",
       "      <th>os</th>\n",
       "      <th>inches</th>\n",
       "      <th>resolution</th>\n",
       "      <th>battery</th>\n",
       "      <th>battery_type</th>\n",
       "      <th>ram(GB)</th>\n",
       "      <th>announcement_date</th>\n",
       "      <th>weight(g)</th>\n",
       "      <th>...</th>\n",
       "      <th>video_1080p</th>\n",
       "      <th>video_4K</th>\n",
       "      <th>video_8K</th>\n",
       "      <th>video_30fps</th>\n",
       "      <th>video_60fps</th>\n",
       "      <th>video_120fps</th>\n",
       "      <th>video_240fps</th>\n",
       "      <th>video_480fps</th>\n",
       "      <th>video_960fps</th>\n",
       "      <th>price(USD)</th>\n",
       "    </tr>\n",
       "  </thead>\n",
       "  <tbody>\n",
       "    <tr>\n",
       "      <th>0</th>\n",
       "      <td>Y6II Compact</td>\n",
       "      <td>Huawei</td>\n",
       "      <td>Android 5.1</td>\n",
       "      <td>5.0</td>\n",
       "      <td>720x1280</td>\n",
       "      <td>2200</td>\n",
       "      <td>Li-Po</td>\n",
       "      <td>2</td>\n",
       "      <td>2016-09-01</td>\n",
       "      <td>140.0</td>\n",
       "      <td>...</td>\n",
       "      <td>False</td>\n",
       "      <td>False</td>\n",
       "      <td>False</td>\n",
       "      <td>True</td>\n",
       "      <td>False</td>\n",
       "      <td>False</td>\n",
       "      <td>False</td>\n",
       "      <td>False</td>\n",
       "      <td>False</td>\n",
       "      <td>120.0</td>\n",
       "    </tr>\n",
       "    <tr>\n",
       "      <th>1</th>\n",
       "      <td>K20 plus</td>\n",
       "      <td>LG</td>\n",
       "      <td>Android 7.0</td>\n",
       "      <td>5.3</td>\n",
       "      <td>720x1280</td>\n",
       "      <td>2700</td>\n",
       "      <td>Li-Ion</td>\n",
       "      <td>2</td>\n",
       "      <td>2016-12-01</td>\n",
       "      <td>140.0</td>\n",
       "      <td>...</td>\n",
       "      <td>True</td>\n",
       "      <td>False</td>\n",
       "      <td>False</td>\n",
       "      <td>True</td>\n",
       "      <td>False</td>\n",
       "      <td>False</td>\n",
       "      <td>False</td>\n",
       "      <td>False</td>\n",
       "      <td>False</td>\n",
       "      <td>100.0</td>\n",
       "    </tr>\n",
       "    <tr>\n",
       "      <th>2</th>\n",
       "      <td>P8 Lite (2017)</td>\n",
       "      <td>Huawei</td>\n",
       "      <td>Android 7.0</td>\n",
       "      <td>5.2</td>\n",
       "      <td>1080x1920</td>\n",
       "      <td>3000</td>\n",
       "      <td>Li-Ion</td>\n",
       "      <td>4</td>\n",
       "      <td>2017-01-01</td>\n",
       "      <td>147.0</td>\n",
       "      <td>...</td>\n",
       "      <td>True</td>\n",
       "      <td>False</td>\n",
       "      <td>False</td>\n",
       "      <td>True</td>\n",
       "      <td>False</td>\n",
       "      <td>False</td>\n",
       "      <td>False</td>\n",
       "      <td>False</td>\n",
       "      <td>False</td>\n",
       "      <td>420.0</td>\n",
       "    </tr>\n",
       "    <tr>\n",
       "      <th>3</th>\n",
       "      <td>Redmi Note 4</td>\n",
       "      <td>Xiaomi</td>\n",
       "      <td>Android 6.0</td>\n",
       "      <td>5.5</td>\n",
       "      <td>1080x1920</td>\n",
       "      <td>4100</td>\n",
       "      <td>Li-Po</td>\n",
       "      <td>4</td>\n",
       "      <td>2017-01-01</td>\n",
       "      <td>165.0</td>\n",
       "      <td>...</td>\n",
       "      <td>True</td>\n",
       "      <td>False</td>\n",
       "      <td>False</td>\n",
       "      <td>True</td>\n",
       "      <td>False</td>\n",
       "      <td>True</td>\n",
       "      <td>False</td>\n",
       "      <td>False</td>\n",
       "      <td>False</td>\n",
       "      <td>150.0</td>\n",
       "    </tr>\n",
       "    <tr>\n",
       "      <th>4</th>\n",
       "      <td>P10</td>\n",
       "      <td>Huawei</td>\n",
       "      <td>Android 7.0</td>\n",
       "      <td>5.1</td>\n",
       "      <td>1080x1920</td>\n",
       "      <td>3200</td>\n",
       "      <td>Li-Ion</td>\n",
       "      <td>4</td>\n",
       "      <td>2017-02-01</td>\n",
       "      <td>145.0</td>\n",
       "      <td>...</td>\n",
       "      <td>True</td>\n",
       "      <td>True</td>\n",
       "      <td>False</td>\n",
       "      <td>True</td>\n",
       "      <td>True</td>\n",
       "      <td>False</td>\n",
       "      <td>False</td>\n",
       "      <td>False</td>\n",
       "      <td>False</td>\n",
       "      <td>420.0</td>\n",
       "    </tr>\n",
       "  </tbody>\n",
       "</table>\n",
       "<p>5 rows × 22 columns</p>\n",
       "</div>"
      ],
      "text/plain": [
       "       phone_name   brand           os  inches resolution  battery  \\\n",
       "0    Y6II Compact  Huawei  Android 5.1     5.0   720x1280     2200   \n",
       "1        K20 plus      LG  Android 7.0     5.3   720x1280     2700   \n",
       "2  P8 Lite (2017)  Huawei  Android 7.0     5.2  1080x1920     3000   \n",
       "3    Redmi Note 4  Xiaomi  Android 6.0     5.5  1080x1920     4100   \n",
       "4             P10  Huawei  Android 7.0     5.1  1080x1920     3200   \n",
       "\n",
       "  battery_type  ram(GB) announcement_date  weight(g)  ...  video_1080p  \\\n",
       "0        Li-Po        2        2016-09-01      140.0  ...        False   \n",
       "1       Li-Ion        2        2016-12-01      140.0  ...         True   \n",
       "2       Li-Ion        4        2017-01-01      147.0  ...         True   \n",
       "3        Li-Po        4        2017-01-01      165.0  ...         True   \n",
       "4       Li-Ion        4        2017-02-01      145.0  ...         True   \n",
       "\n",
       "   video_4K  video_8K  video_30fps  video_60fps  video_120fps  video_240fps  \\\n",
       "0     False     False         True        False         False         False   \n",
       "1     False     False         True        False         False         False   \n",
       "2     False     False         True        False         False         False   \n",
       "3     False     False         True        False          True         False   \n",
       "4      True     False         True         True         False         False   \n",
       "\n",
       "   video_480fps  video_960fps  price(USD)  \n",
       "0         False         False       120.0  \n",
       "1         False         False       100.0  \n",
       "2         False         False       420.0  \n",
       "3         False         False       150.0  \n",
       "4         False         False       420.0  \n",
       "\n",
       "[5 rows x 22 columns]"
      ]
     },
     "execution_count": 10,
     "metadata": {},
     "output_type": "execute_result"
    }
   ],
   "source": [
    "dt.head()"
   ]
  },
  {
   "cell_type": "code",
   "execution_count": 4,
   "id": "0d8cd268",
   "metadata": {},
   "outputs": [
    {
     "name": "stdout",
     "output_type": "stream",
     "text": [
      "<class 'pandas.core.frame.DataFrame'>\n",
      "RangeIndex: 1512 entries, 0 to 1511\n",
      "Data columns (total 22 columns):\n",
      " #   Column             Non-Null Count  Dtype  \n",
      "---  ------             --------------  -----  \n",
      " 0   phone_name         1512 non-null   object \n",
      " 1   brand              1512 non-null   object \n",
      " 2   os                 1512 non-null   object \n",
      " 3   inches             1512 non-null   float64\n",
      " 4   resolution         1512 non-null   object \n",
      " 5   battery            1512 non-null   int64  \n",
      " 6   battery_type       1512 non-null   object \n",
      " 7   ram(GB)            1512 non-null   int64  \n",
      " 8   announcement_date  1512 non-null   object \n",
      " 9   weight(g)          1512 non-null   float64\n",
      " 10  storage(GB)        1512 non-null   int64  \n",
      " 11  video_720p         1512 non-null   bool   \n",
      " 12  video_1080p        1512 non-null   bool   \n",
      " 13  video_4K           1512 non-null   bool   \n",
      " 14  video_8K           1512 non-null   bool   \n",
      " 15  video_30fps        1512 non-null   bool   \n",
      " 16  video_60fps        1512 non-null   bool   \n",
      " 17  video_120fps       1512 non-null   bool   \n",
      " 18  video_240fps       1512 non-null   bool   \n",
      " 19  video_480fps       1512 non-null   bool   \n",
      " 20  video_960fps       1512 non-null   bool   \n",
      " 21  price(USD)         1512 non-null   float64\n",
      "dtypes: bool(10), float64(3), int64(3), object(6)\n",
      "memory usage: 156.6+ KB\n"
     ]
    }
   ],
   "source": [
    "dt.info()"
   ]
  },
  {
   "cell_type": "code",
   "execution_count": 49,
   "id": "e7594d5b",
   "metadata": {},
   "outputs": [],
   "source": [
    "dt['announcement_date']=pd.to_datetime(dt['announcement_date'])"
   ]
  },
  {
   "cell_type": "code",
   "execution_count": null,
   "id": "6c95d8f2",
   "metadata": {},
   "outputs": [],
   "source": [
    "# 1.How many unique  mobile brands are there in the data provided?"
   ]
  },
  {
   "cell_type": "code",
   "execution_count": 9,
   "id": "52aa4b3e",
   "metadata": {},
   "outputs": [
    {
     "data": {
      "text/plain": [
       "13"
      ]
     },
     "execution_count": 9,
     "metadata": {},
     "output_type": "execute_result"
    }
   ],
   "source": [
    "len(dt['brand'].unique())"
   ]
  },
  {
   "cell_type": "code",
   "execution_count": null,
   "id": "67c7db91",
   "metadata": {},
   "outputs": [],
   "source": [
    "# Ans: 13 mobile brands are unique"
   ]
  },
  {
   "cell_type": "code",
   "execution_count": null,
   "id": "872ce973",
   "metadata": {},
   "outputs": [],
   "source": []
  },
  {
   "cell_type": "code",
   "execution_count": null,
   "id": "b18e16ad",
   "metadata": {},
   "outputs": [],
   "source": [
    "#2. What is the average ram size of all the collected data?"
   ]
  },
  {
   "cell_type": "code",
   "execution_count": 12,
   "id": "c5b4db3d",
   "metadata": {},
   "outputs": [
    {
     "data": {
      "text/plain": [
       "6.6838624338624335"
      ]
     },
     "execution_count": 12,
     "metadata": {},
     "output_type": "execute_result"
    }
   ],
   "source": [
    "dt['ram(GB)'].mean()"
   ]
  },
  {
   "cell_type": "code",
   "execution_count": null,
   "id": "ea8e2310",
   "metadata": {},
   "outputs": [],
   "source": [
    "# Ans: 6.69 is the average ram size of all the collected data."
   ]
  },
  {
   "cell_type": "code",
   "execution_count": null,
   "id": "f4c4785e",
   "metadata": {},
   "outputs": [],
   "source": []
  },
  {
   "cell_type": "code",
   "execution_count": null,
   "id": "1a7252bb",
   "metadata": {},
   "outputs": [],
   "source": [
    "# 3.Which phone is having the maximum and minimum battery capacity?"
   ]
  },
  {
   "cell_type": "code",
   "execution_count": 13,
   "id": "1280cb20",
   "metadata": {},
   "outputs": [
    {
     "data": {
      "text/plain": [
       "1821"
      ]
     },
     "execution_count": 13,
     "metadata": {},
     "output_type": "execute_result"
    }
   ],
   "source": [
    "dt['battery'].min()"
   ]
  },
  {
   "cell_type": "code",
   "execution_count": 14,
   "id": "f0c6ed4b",
   "metadata": {},
   "outputs": [
    {
     "data": {
      "text/html": [
       "<div>\n",
       "<style scoped>\n",
       "    .dataframe tbody tr th:only-of-type {\n",
       "        vertical-align: middle;\n",
       "    }\n",
       "\n",
       "    .dataframe tbody tr th {\n",
       "        vertical-align: top;\n",
       "    }\n",
       "\n",
       "    .dataframe thead th {\n",
       "        text-align: right;\n",
       "    }\n",
       "</style>\n",
       "<table border=\"1\" class=\"dataframe\">\n",
       "  <thead>\n",
       "    <tr style=\"text-align: right;\">\n",
       "      <th></th>\n",
       "      <th>phone_name</th>\n",
       "      <th>brand</th>\n",
       "      <th>os</th>\n",
       "      <th>inches</th>\n",
       "      <th>resolution</th>\n",
       "      <th>battery</th>\n",
       "      <th>battery_type</th>\n",
       "      <th>ram(GB)</th>\n",
       "      <th>announcement_date</th>\n",
       "      <th>weight(g)</th>\n",
       "      <th>...</th>\n",
       "      <th>video_1080p</th>\n",
       "      <th>video_4K</th>\n",
       "      <th>video_8K</th>\n",
       "      <th>video_30fps</th>\n",
       "      <th>video_60fps</th>\n",
       "      <th>video_120fps</th>\n",
       "      <th>video_240fps</th>\n",
       "      <th>video_480fps</th>\n",
       "      <th>video_960fps</th>\n",
       "      <th>price(USD)</th>\n",
       "    </tr>\n",
       "  </thead>\n",
       "  <tbody>\n",
       "    <tr>\n",
       "      <th>62</th>\n",
       "      <td>iPhone 8</td>\n",
       "      <td>Apple</td>\n",
       "      <td>iOS 11</td>\n",
       "      <td>4.7</td>\n",
       "      <td>750x1334</td>\n",
       "      <td>1821</td>\n",
       "      <td>Li-Ion</td>\n",
       "      <td>2</td>\n",
       "      <td>2017-09-12</td>\n",
       "      <td>148.0</td>\n",
       "      <td>...</td>\n",
       "      <td>True</td>\n",
       "      <td>True</td>\n",
       "      <td>False</td>\n",
       "      <td>True</td>\n",
       "      <td>True</td>\n",
       "      <td>True</td>\n",
       "      <td>True</td>\n",
       "      <td>False</td>\n",
       "      <td>False</td>\n",
       "      <td>210.0</td>\n",
       "    </tr>\n",
       "    <tr>\n",
       "      <th>536</th>\n",
       "      <td>iPhone SE (2020)</td>\n",
       "      <td>Apple</td>\n",
       "      <td>iOS 13</td>\n",
       "      <td>4.7</td>\n",
       "      <td>750x1334</td>\n",
       "      <td>1821</td>\n",
       "      <td>Li-Ion</td>\n",
       "      <td>3</td>\n",
       "      <td>2020-04-15</td>\n",
       "      <td>148.0</td>\n",
       "      <td>...</td>\n",
       "      <td>True</td>\n",
       "      <td>True</td>\n",
       "      <td>False</td>\n",
       "      <td>True</td>\n",
       "      <td>True</td>\n",
       "      <td>True</td>\n",
       "      <td>True</td>\n",
       "      <td>False</td>\n",
       "      <td>False</td>\n",
       "      <td>189.5</td>\n",
       "    </tr>\n",
       "  </tbody>\n",
       "</table>\n",
       "<p>2 rows × 22 columns</p>\n",
       "</div>"
      ],
      "text/plain": [
       "           phone_name  brand      os  inches resolution  battery battery_type  \\\n",
       "62           iPhone 8  Apple  iOS 11     4.7   750x1334     1821       Li-Ion   \n",
       "536  iPhone SE (2020)  Apple  iOS 13     4.7   750x1334     1821       Li-Ion   \n",
       "\n",
       "     ram(GB) announcement_date  weight(g)  ...  video_1080p  video_4K  \\\n",
       "62         2        2017-09-12      148.0  ...         True      True   \n",
       "536        3        2020-04-15      148.0  ...         True      True   \n",
       "\n",
       "     video_8K  video_30fps  video_60fps  video_120fps  video_240fps  \\\n",
       "62      False         True         True          True          True   \n",
       "536     False         True         True          True          True   \n",
       "\n",
       "     video_480fps  video_960fps  price(USD)  \n",
       "62          False         False       210.0  \n",
       "536         False         False       189.5  \n",
       "\n",
       "[2 rows x 22 columns]"
      ]
     },
     "execution_count": 14,
     "metadata": {},
     "output_type": "execute_result"
    }
   ],
   "source": [
    "dt.loc[dt['battery']==1821]"
   ]
  },
  {
   "cell_type": "code",
   "execution_count": null,
   "id": "3c7d6289",
   "metadata": {},
   "outputs": [],
   "source": [
    "# Ans: iphone 8 and iphone SE(2020) are having minimum RAM capacity."
   ]
  },
  {
   "cell_type": "code",
   "execution_count": null,
   "id": "eab364ea",
   "metadata": {},
   "outputs": [],
   "source": []
  },
  {
   "cell_type": "code",
   "execution_count": null,
   "id": "ad380482",
   "metadata": {},
   "outputs": [],
   "source": [
    "#4. What is the maximum battery capacity provided by Huawei Company?"
   ]
  },
  {
   "cell_type": "code",
   "execution_count": 39,
   "id": "36cf7029",
   "metadata": {},
   "outputs": [],
   "source": [
    "x = dt.groupby('brand')"
   ]
  },
  {
   "cell_type": "code",
   "execution_count": 46,
   "id": "17df75e6",
   "metadata": {},
   "outputs": [
    {
     "data": {
      "text/html": [
       "<div>\n",
       "<style scoped>\n",
       "    .dataframe tbody tr th:only-of-type {\n",
       "        vertical-align: middle;\n",
       "    }\n",
       "\n",
       "    .dataframe tbody tr th {\n",
       "        vertical-align: top;\n",
       "    }\n",
       "\n",
       "    .dataframe thead tr th {\n",
       "        text-align: left;\n",
       "    }\n",
       "\n",
       "    .dataframe thead tr:last-of-type th {\n",
       "        text-align: right;\n",
       "    }\n",
       "</style>\n",
       "<table border=\"1\" class=\"dataframe\">\n",
       "  <thead>\n",
       "    <tr>\n",
       "      <th></th>\n",
       "      <th colspan=\"2\" halign=\"left\">battery</th>\n",
       "      <th colspan=\"2\" halign=\"left\">inches</th>\n",
       "      <th colspan=\"2\" halign=\"left\">price(USD)</th>\n",
       "      <th colspan=\"2\" halign=\"left\">ram(GB)</th>\n",
       "    </tr>\n",
       "    <tr>\n",
       "      <th></th>\n",
       "      <th>min</th>\n",
       "      <th>max</th>\n",
       "      <th>min</th>\n",
       "      <th>max</th>\n",
       "      <th>min</th>\n",
       "      <th>max</th>\n",
       "      <th>min</th>\n",
       "      <th>max</th>\n",
       "    </tr>\n",
       "    <tr>\n",
       "      <th>brand</th>\n",
       "      <th></th>\n",
       "      <th></th>\n",
       "      <th></th>\n",
       "      <th></th>\n",
       "      <th></th>\n",
       "      <th></th>\n",
       "      <th></th>\n",
       "      <th></th>\n",
       "    </tr>\n",
       "  </thead>\n",
       "  <tbody>\n",
       "    <tr>\n",
       "      <th>Apple</th>\n",
       "      <td>1821</td>\n",
       "      <td>4352</td>\n",
       "      <td>4.70</td>\n",
       "      <td>6.70</td>\n",
       "      <td>189.50</td>\n",
       "      <td>1580.09</td>\n",
       "      <td>2</td>\n",
       "      <td>6</td>\n",
       "    </tr>\n",
       "    <tr>\n",
       "      <th>Google</th>\n",
       "      <td>2700</td>\n",
       "      <td>5003</td>\n",
       "      <td>5.00</td>\n",
       "      <td>7.60</td>\n",
       "      <td>238.00</td>\n",
       "      <td>1750.00</td>\n",
       "      <td>4</td>\n",
       "      <td>12</td>\n",
       "    </tr>\n",
       "    <tr>\n",
       "      <th>Honor</th>\n",
       "      <td>3000</td>\n",
       "      <td>7250</td>\n",
       "      <td>5.45</td>\n",
       "      <td>10.40</td>\n",
       "      <td>90.00</td>\n",
       "      <td>1500.00</td>\n",
       "      <td>2</td>\n",
       "      <td>16</td>\n",
       "    </tr>\n",
       "    <tr>\n",
       "      <th>Huawei</th>\n",
       "      <td>2200</td>\n",
       "      <td>7000</td>\n",
       "      <td>5.00</td>\n",
       "      <td>8.00</td>\n",
       "      <td>90.00</td>\n",
       "      <td>2300.00</td>\n",
       "      <td>1</td>\n",
       "      <td>12</td>\n",
       "    </tr>\n",
       "    <tr>\n",
       "      <th>LG</th>\n",
       "      <td>2410</td>\n",
       "      <td>5000</td>\n",
       "      <td>5.00</td>\n",
       "      <td>6.80</td>\n",
       "      <td>70.00</td>\n",
       "      <td>1100.00</td>\n",
       "      <td>1</td>\n",
       "      <td>8</td>\n",
       "    </tr>\n",
       "    <tr>\n",
       "      <th>Lenovo</th>\n",
       "      <td>3000</td>\n",
       "      <td>7000</td>\n",
       "      <td>5.20</td>\n",
       "      <td>10.30</td>\n",
       "      <td>90.00</td>\n",
       "      <td>880.00</td>\n",
       "      <td>2</td>\n",
       "      <td>18</td>\n",
       "    </tr>\n",
       "    <tr>\n",
       "      <th>OnePlus</th>\n",
       "      <td>3300</td>\n",
       "      <td>5000</td>\n",
       "      <td>6.28</td>\n",
       "      <td>6.78</td>\n",
       "      <td>119.00</td>\n",
       "      <td>1030.00</td>\n",
       "      <td>4</td>\n",
       "      <td>24</td>\n",
       "    </tr>\n",
       "    <tr>\n",
       "      <th>Oppo</th>\n",
       "      <td>2900</td>\n",
       "      <td>5000</td>\n",
       "      <td>5.20</td>\n",
       "      <td>7.10</td>\n",
       "      <td>100.00</td>\n",
       "      <td>1350.00</td>\n",
       "      <td>2</td>\n",
       "      <td>16</td>\n",
       "    </tr>\n",
       "    <tr>\n",
       "      <th>Realme</th>\n",
       "      <td>3410</td>\n",
       "      <td>6000</td>\n",
       "      <td>6.00</td>\n",
       "      <td>6.74</td>\n",
       "      <td>40.00</td>\n",
       "      <td>839.95</td>\n",
       "      <td>2</td>\n",
       "      <td>24</td>\n",
       "    </tr>\n",
       "    <tr>\n",
       "      <th>Samsung</th>\n",
       "      <td>1950</td>\n",
       "      <td>7000</td>\n",
       "      <td>3.80</td>\n",
       "      <td>7.60</td>\n",
       "      <td>60.00</td>\n",
       "      <td>1750.00</td>\n",
       "      <td>1</td>\n",
       "      <td>16</td>\n",
       "    </tr>\n",
       "    <tr>\n",
       "      <th>Sony</th>\n",
       "      <td>2300</td>\n",
       "      <td>5000</td>\n",
       "      <td>4.60</td>\n",
       "      <td>6.50</td>\n",
       "      <td>110.00</td>\n",
       "      <td>2000.00</td>\n",
       "      <td>2</td>\n",
       "      <td>12</td>\n",
       "    </tr>\n",
       "    <tr>\n",
       "      <th>Vivo</th>\n",
       "      <td>4000</td>\n",
       "      <td>6000</td>\n",
       "      <td>6.38</td>\n",
       "      <td>8.03</td>\n",
       "      <td>90.00</td>\n",
       "      <td>1450.00</td>\n",
       "      <td>2</td>\n",
       "      <td>16</td>\n",
       "    </tr>\n",
       "    <tr>\n",
       "      <th>Xiaomi</th>\n",
       "      <td>3000</td>\n",
       "      <td>6000</td>\n",
       "      <td>5.00</td>\n",
       "      <td>8.03</td>\n",
       "      <td>71.37</td>\n",
       "      <td>1500.00</td>\n",
       "      <td>1</td>\n",
       "      <td>24</td>\n",
       "    </tr>\n",
       "  </tbody>\n",
       "</table>\n",
       "</div>"
      ],
      "text/plain": [
       "        battery       inches        price(USD)          ram(GB)    \n",
       "            min   max    min    max        min      max     min max\n",
       "brand                                                              \n",
       "Apple      1821  4352   4.70   6.70     189.50  1580.09       2   6\n",
       "Google     2700  5003   5.00   7.60     238.00  1750.00       4  12\n",
       "Honor      3000  7250   5.45  10.40      90.00  1500.00       2  16\n",
       "Huawei     2200  7000   5.00   8.00      90.00  2300.00       1  12\n",
       "LG         2410  5000   5.00   6.80      70.00  1100.00       1   8\n",
       "Lenovo     3000  7000   5.20  10.30      90.00   880.00       2  18\n",
       "OnePlus    3300  5000   6.28   6.78     119.00  1030.00       4  24\n",
       "Oppo       2900  5000   5.20   7.10     100.00  1350.00       2  16\n",
       "Realme     3410  6000   6.00   6.74      40.00   839.95       2  24\n",
       "Samsung    1950  7000   3.80   7.60      60.00  1750.00       1  16\n",
       "Sony       2300  5000   4.60   6.50     110.00  2000.00       2  12\n",
       "Vivo       4000  6000   6.38   8.03      90.00  1450.00       2  16\n",
       "Xiaomi     3000  6000   5.00   8.03      71.37  1500.00       1  24"
      ]
     },
     "execution_count": 46,
     "metadata": {},
     "output_type": "execute_result"
    }
   ],
   "source": [
    "x.agg({'battery':['min','max'],'inches':['min','max'],'price(USD)':['min','max'],'ram(GB)':['min','max']})"
   ]
  },
  {
   "cell_type": "code",
   "execution_count": null,
   "id": "3c826c56",
   "metadata": {},
   "outputs": [],
   "source": [
    "# Ans: 7000 is the highest RAM provided by huawei company."
   ]
  },
  {
   "cell_type": "code",
   "execution_count": null,
   "id": "0acffe2c",
   "metadata": {},
   "outputs": [],
   "source": []
  },
  {
   "cell_type": "code",
   "execution_count": null,
   "id": "e091fc2e",
   "metadata": {},
   "outputs": [],
   "source": [
    "# 5.Which Phone brand is providing the highest and lowest ram?"
   ]
  },
  {
   "cell_type": "code",
   "execution_count": null,
   "id": "2e3e6295",
   "metadata": {},
   "outputs": [],
   "source": [
    "# Ans: Xiaomi is providing highest and lowest RAM"
   ]
  },
  {
   "cell_type": "code",
   "execution_count": null,
   "id": "ab61ba07",
   "metadata": {},
   "outputs": [],
   "source": []
  },
  {
   "cell_type": "code",
   "execution_count": null,
   "id": "2995e11f",
   "metadata": {},
   "outputs": [],
   "source": [
    "#6. How many phones has android 7.0 as there operating system?"
   ]
  },
  {
   "cell_type": "code",
   "execution_count": 17,
   "id": "f0ef8620",
   "metadata": {},
   "outputs": [
    {
     "data": {
      "text/plain": [
       "33"
      ]
     },
     "execution_count": 17,
     "metadata": {},
     "output_type": "execute_result"
    }
   ],
   "source": [
    "len(dt.loc[dt['os']=='Android 7.0'])"
   ]
  },
  {
   "cell_type": "code",
   "execution_count": null,
   "id": "7a18cee8",
   "metadata": {},
   "outputs": [],
   "source": [
    "# Ans: 33 phones have Android 7.0 as operating system"
   ]
  },
  {
   "cell_type": "code",
   "execution_count": null,
   "id": "d0871c90",
   "metadata": {},
   "outputs": [],
   "source": []
  },
  {
   "cell_type": "code",
   "execution_count": null,
   "id": "8aa32739",
   "metadata": {},
   "outputs": [],
   "source": [
    "#7. Which Phone is the oldest?"
   ]
  },
  {
   "cell_type": "code",
   "execution_count": 18,
   "id": "9cd22106",
   "metadata": {},
   "outputs": [
    {
     "data": {
      "text/plain": [
       "'2016-09-01'"
      ]
     },
     "execution_count": 18,
     "metadata": {},
     "output_type": "execute_result"
    }
   ],
   "source": [
    "dt['announcement_date'].min()"
   ]
  },
  {
   "cell_type": "code",
   "execution_count": 21,
   "id": "f3305236",
   "metadata": {},
   "outputs": [
    {
     "data": {
      "text/html": [
       "<div>\n",
       "<style scoped>\n",
       "    .dataframe tbody tr th:only-of-type {\n",
       "        vertical-align: middle;\n",
       "    }\n",
       "\n",
       "    .dataframe tbody tr th {\n",
       "        vertical-align: top;\n",
       "    }\n",
       "\n",
       "    .dataframe thead th {\n",
       "        text-align: right;\n",
       "    }\n",
       "</style>\n",
       "<table border=\"1\" class=\"dataframe\">\n",
       "  <thead>\n",
       "    <tr style=\"text-align: right;\">\n",
       "      <th></th>\n",
       "      <th>phone_name</th>\n",
       "      <th>brand</th>\n",
       "      <th>os</th>\n",
       "      <th>inches</th>\n",
       "      <th>resolution</th>\n",
       "      <th>battery</th>\n",
       "      <th>battery_type</th>\n",
       "      <th>ram(GB)</th>\n",
       "      <th>announcement_date</th>\n",
       "      <th>weight(g)</th>\n",
       "      <th>...</th>\n",
       "      <th>video_1080p</th>\n",
       "      <th>video_4K</th>\n",
       "      <th>video_8K</th>\n",
       "      <th>video_30fps</th>\n",
       "      <th>video_60fps</th>\n",
       "      <th>video_120fps</th>\n",
       "      <th>video_240fps</th>\n",
       "      <th>video_480fps</th>\n",
       "      <th>video_960fps</th>\n",
       "      <th>price(USD)</th>\n",
       "    </tr>\n",
       "  </thead>\n",
       "  <tbody>\n",
       "    <tr>\n",
       "      <th>0</th>\n",
       "      <td>Y6II Compact</td>\n",
       "      <td>Huawei</td>\n",
       "      <td>Android 5.1</td>\n",
       "      <td>5.0</td>\n",
       "      <td>720x1280</td>\n",
       "      <td>2200</td>\n",
       "      <td>Li-Po</td>\n",
       "      <td>2</td>\n",
       "      <td>2016-09-01</td>\n",
       "      <td>140.0</td>\n",
       "      <td>...</td>\n",
       "      <td>False</td>\n",
       "      <td>False</td>\n",
       "      <td>False</td>\n",
       "      <td>True</td>\n",
       "      <td>False</td>\n",
       "      <td>False</td>\n",
       "      <td>False</td>\n",
       "      <td>False</td>\n",
       "      <td>False</td>\n",
       "      <td>120.0</td>\n",
       "    </tr>\n",
       "  </tbody>\n",
       "</table>\n",
       "<p>1 rows × 22 columns</p>\n",
       "</div>"
      ],
      "text/plain": [
       "     phone_name   brand           os  inches resolution  battery battery_type  \\\n",
       "0  Y6II Compact  Huawei  Android 5.1     5.0   720x1280     2200        Li-Po   \n",
       "\n",
       "   ram(GB) announcement_date  weight(g)  ...  video_1080p  video_4K  video_8K  \\\n",
       "0        2        2016-09-01      140.0  ...        False     False     False   \n",
       "\n",
       "   video_30fps  video_60fps  video_120fps  video_240fps  video_480fps  \\\n",
       "0         True        False         False         False         False   \n",
       "\n",
       "   video_960fps  price(USD)  \n",
       "0         False       120.0  \n",
       "\n",
       "[1 rows x 22 columns]"
      ]
     },
     "execution_count": 21,
     "metadata": {},
     "output_type": "execute_result"
    }
   ],
   "source": [
    "dt.loc[dt['announcement_date']=='2016-09-01']"
   ]
  },
  {
   "cell_type": "code",
   "execution_count": null,
   "id": "39868e8f",
   "metadata": {},
   "outputs": [],
   "source": [
    "# Ans: y6ll Compact of Huawei brand is the oldest phone."
   ]
  },
  {
   "cell_type": "code",
   "execution_count": null,
   "id": "cf0bae68",
   "metadata": {},
   "outputs": [],
   "source": []
  },
  {
   "cell_type": "code",
   "execution_count": null,
   "id": "e1096c91",
   "metadata": {},
   "outputs": [],
   "source": [
    "#8.Which brand produced maximum number of phone in the given data?"
   ]
  },
  {
   "cell_type": "code",
   "execution_count": 22,
   "id": "712315a8",
   "metadata": {},
   "outputs": [
    {
     "data": {
      "text/plain": [
       "Xiaomi     264\n",
       "Oppo       213\n",
       "Samsung    206\n",
       "Vivo       168\n",
       "Realme     157\n",
       "Huawei     137\n",
       "Honor      124\n",
       "LG          75\n",
       "OnePlus     47\n",
       "Lenovo      43\n",
       "Sony        37\n",
       "Apple       22\n",
       "Google      19\n",
       "Name: brand, dtype: int64"
      ]
     },
     "execution_count": 22,
     "metadata": {},
     "output_type": "execute_result"
    }
   ],
   "source": [
    "dt['brand'].value_counts()"
   ]
  },
  {
   "cell_type": "code",
   "execution_count": null,
   "id": "ed79db14",
   "metadata": {},
   "outputs": [],
   "source": [
    "# Ans: Xiaomi produced maximum number of phones."
   ]
  },
  {
   "cell_type": "code",
   "execution_count": null,
   "id": "69616d88",
   "metadata": {},
   "outputs": [],
   "source": []
  },
  {
   "cell_type": "code",
   "execution_count": null,
   "id": "b48e21ea",
   "metadata": {},
   "outputs": [],
   "source": [
    "# 9.Give the count of phones supporting?\n",
    "#  4k video, 8k video, 2k video"
   ]
  },
  {
   "cell_type": "code",
   "execution_count": 5,
   "id": "53378c21",
   "metadata": {},
   "outputs": [
    {
     "data": {
      "text/plain": [
       "801"
      ]
     },
     "execution_count": 5,
     "metadata": {},
     "output_type": "execute_result"
    }
   ],
   "source": [
    "len(dt.loc[dt['video_4K']==True].value_counts()) # no. of phones supporting 4k video"
   ]
  },
  {
   "cell_type": "code",
   "execution_count": 25,
   "id": "aa792e88",
   "metadata": {},
   "outputs": [
    {
     "data": {
      "text/plain": [
       "86"
      ]
     },
     "execution_count": 25,
     "metadata": {},
     "output_type": "execute_result"
    }
   ],
   "source": [
    "len(dt.loc[dt['video_8K']==True].value_counts()) # no.of phones supporting 8k video"
   ]
  },
  {
   "cell_type": "code",
   "execution_count": 26,
   "id": "2e5a0364",
   "metadata": {},
   "outputs": [
    {
     "data": {
      "text/plain": [
       "1503"
      ]
     },
     "execution_count": 26,
     "metadata": {},
     "output_type": "execute_result"
    }
   ],
   "source": [
    "len(dt.loc[dt['video_1080p']==True].value_counts()) # no.of phones support 2k video"
   ]
  },
  {
   "cell_type": "code",
   "execution_count": 27,
   "id": "d852c2eb",
   "metadata": {},
   "outputs": [],
   "source": [
    "# Ans: 4k video : 801 phones support 4k video\n",
    "#      8k video : 86 phones support 8k video\n",
    "#      2k video : 1503 phones support 2k video"
   ]
  },
  {
   "cell_type": "code",
   "execution_count": null,
   "id": "5eacf77e",
   "metadata": {},
   "outputs": [],
   "source": []
  },
  {
   "cell_type": "code",
   "execution_count": null,
   "id": "4b075a87",
   "metadata": {},
   "outputs": [],
   "source": [
    "# 10. How many phones supports Li-Po and Li-ion Battery?"
   ]
  },
  {
   "cell_type": "code",
   "execution_count": 65,
   "id": "b760b05b",
   "metadata": {},
   "outputs": [
    {
     "data": {
      "text/plain": [
       "1242"
      ]
     },
     "execution_count": 65,
     "metadata": {},
     "output_type": "execute_result"
    }
   ],
   "source": [
    "len(dt.loc[dt['battery_type']== 'Li-Po']) # Li-Po battery phones"
   ]
  },
  {
   "cell_type": "code",
   "execution_count": 66,
   "id": "b793418c",
   "metadata": {},
   "outputs": [
    {
     "data": {
      "text/plain": [
       "270"
      ]
     },
     "execution_count": 66,
     "metadata": {},
     "output_type": "execute_result"
    }
   ],
   "source": [
    "len(dt.loc[dt['battery_type']=='Li-Ion']) # Li-Ion battery phones"
   ]
  },
  {
   "cell_type": "code",
   "execution_count": null,
   "id": "6f57fe64",
   "metadata": {},
   "outputs": [],
   "source": [
    "# Ans: 1242 phones support li-Po battery\n",
    "#      270 phones support Li-Ion battery"
   ]
  },
  {
   "cell_type": "code",
   "execution_count": null,
   "id": "d8762871",
   "metadata": {},
   "outputs": [],
   "source": []
  },
  {
   "cell_type": "code",
   "execution_count": null,
   "id": "46ee5c3d",
   "metadata": {},
   "outputs": [],
   "source": [
    "# 11. How many sony phones supports 720x1280 resolution?"
   ]
  },
  {
   "cell_type": "code",
   "execution_count": 31,
   "id": "0f2367e5",
   "metadata": {},
   "outputs": [],
   "source": [
    "x = dt.loc[(dt['brand']=='Sony')&(dt['resolution']=='720x1280')]"
   ]
  },
  {
   "cell_type": "code",
   "execution_count": 33,
   "id": "525b7e14",
   "metadata": {},
   "outputs": [
    {
     "data": {
      "text/html": [
       "<div>\n",
       "<style scoped>\n",
       "    .dataframe tbody tr th:only-of-type {\n",
       "        vertical-align: middle;\n",
       "    }\n",
       "\n",
       "    .dataframe tbody tr th {\n",
       "        vertical-align: top;\n",
       "    }\n",
       "\n",
       "    .dataframe thead th {\n",
       "        text-align: right;\n",
       "    }\n",
       "</style>\n",
       "<table border=\"1\" class=\"dataframe\">\n",
       "  <thead>\n",
       "    <tr style=\"text-align: right;\">\n",
       "      <th></th>\n",
       "      <th>phone_name</th>\n",
       "      <th>brand</th>\n",
       "      <th>os</th>\n",
       "      <th>inches</th>\n",
       "      <th>resolution</th>\n",
       "      <th>battery</th>\n",
       "      <th>battery_type</th>\n",
       "      <th>ram(GB)</th>\n",
       "      <th>announcement_date</th>\n",
       "      <th>weight(g)</th>\n",
       "      <th>...</th>\n",
       "      <th>video_1080p</th>\n",
       "      <th>video_4K</th>\n",
       "      <th>video_8K</th>\n",
       "      <th>video_30fps</th>\n",
       "      <th>video_60fps</th>\n",
       "      <th>video_120fps</th>\n",
       "      <th>video_240fps</th>\n",
       "      <th>video_480fps</th>\n",
       "      <th>video_960fps</th>\n",
       "      <th>price(USD)</th>\n",
       "    </tr>\n",
       "  </thead>\n",
       "  <tbody>\n",
       "    <tr>\n",
       "      <th>5</th>\n",
       "      <td>Xperia XA1</td>\n",
       "      <td>Sony</td>\n",
       "      <td>Android 7.0</td>\n",
       "      <td>5.0</td>\n",
       "      <td>720x1280</td>\n",
       "      <td>2300</td>\n",
       "      <td>Li-Ion</td>\n",
       "      <td>3</td>\n",
       "      <td>2017-02-01</td>\n",
       "      <td>143.0</td>\n",
       "      <td>...</td>\n",
       "      <td>True</td>\n",
       "      <td>False</td>\n",
       "      <td>False</td>\n",
       "      <td>True</td>\n",
       "      <td>False</td>\n",
       "      <td>False</td>\n",
       "      <td>False</td>\n",
       "      <td>False</td>\n",
       "      <td>False</td>\n",
       "      <td>140.0</td>\n",
       "    </tr>\n",
       "    <tr>\n",
       "      <th>13</th>\n",
       "      <td>Xperia L1</td>\n",
       "      <td>Sony</td>\n",
       "      <td>Android 7.0</td>\n",
       "      <td>5.5</td>\n",
       "      <td>720x1280</td>\n",
       "      <td>2620</td>\n",
       "      <td>Li-Ion</td>\n",
       "      <td>2</td>\n",
       "      <td>2017-03-01</td>\n",
       "      <td>180.0</td>\n",
       "      <td>...</td>\n",
       "      <td>True</td>\n",
       "      <td>False</td>\n",
       "      <td>False</td>\n",
       "      <td>True</td>\n",
       "      <td>False</td>\n",
       "      <td>False</td>\n",
       "      <td>False</td>\n",
       "      <td>False</td>\n",
       "      <td>False</td>\n",
       "      <td>110.0</td>\n",
       "    </tr>\n",
       "    <tr>\n",
       "      <th>48</th>\n",
       "      <td>Xperia XZ1 Compact</td>\n",
       "      <td>Sony</td>\n",
       "      <td>Android 8.0</td>\n",
       "      <td>4.6</td>\n",
       "      <td>720x1280</td>\n",
       "      <td>2700</td>\n",
       "      <td>Li-Ion</td>\n",
       "      <td>4</td>\n",
       "      <td>2017-08-01</td>\n",
       "      <td>140.0</td>\n",
       "      <td>...</td>\n",
       "      <td>True</td>\n",
       "      <td>True</td>\n",
       "      <td>False</td>\n",
       "      <td>True</td>\n",
       "      <td>True</td>\n",
       "      <td>False</td>\n",
       "      <td>False</td>\n",
       "      <td>False</td>\n",
       "      <td>True</td>\n",
       "      <td>300.0</td>\n",
       "    </tr>\n",
       "    <tr>\n",
       "      <th>66</th>\n",
       "      <td>Xperia R1 (Plus)</td>\n",
       "      <td>Sony</td>\n",
       "      <td>Android 7.1</td>\n",
       "      <td>5.2</td>\n",
       "      <td>720x1280</td>\n",
       "      <td>2620</td>\n",
       "      <td>Li-Ion</td>\n",
       "      <td>3</td>\n",
       "      <td>2017-10-01</td>\n",
       "      <td>154.0</td>\n",
       "      <td>...</td>\n",
       "      <td>True</td>\n",
       "      <td>False</td>\n",
       "      <td>False</td>\n",
       "      <td>True</td>\n",
       "      <td>False</td>\n",
       "      <td>False</td>\n",
       "      <td>False</td>\n",
       "      <td>False</td>\n",
       "      <td>False</td>\n",
       "      <td>168.0</td>\n",
       "    </tr>\n",
       "    <tr>\n",
       "      <th>93</th>\n",
       "      <td>Xperia L2</td>\n",
       "      <td>Sony</td>\n",
       "      <td>Android 7.1.1</td>\n",
       "      <td>5.5</td>\n",
       "      <td>720x1280</td>\n",
       "      <td>3300</td>\n",
       "      <td>Li-Ion</td>\n",
       "      <td>3</td>\n",
       "      <td>2018-01-01</td>\n",
       "      <td>178.0</td>\n",
       "      <td>...</td>\n",
       "      <td>True</td>\n",
       "      <td>False</td>\n",
       "      <td>False</td>\n",
       "      <td>True</td>\n",
       "      <td>False</td>\n",
       "      <td>False</td>\n",
       "      <td>False</td>\n",
       "      <td>False</td>\n",
       "      <td>False</td>\n",
       "      <td>140.0</td>\n",
       "    </tr>\n",
       "  </tbody>\n",
       "</table>\n",
       "<p>5 rows × 22 columns</p>\n",
       "</div>"
      ],
      "text/plain": [
       "            phone_name brand             os  inches resolution  battery  \\\n",
       "5           Xperia XA1  Sony    Android 7.0     5.0   720x1280     2300   \n",
       "13           Xperia L1  Sony    Android 7.0     5.5   720x1280     2620   \n",
       "48  Xperia XZ1 Compact  Sony    Android 8.0     4.6   720x1280     2700   \n",
       "66    Xperia R1 (Plus)  Sony    Android 7.1     5.2   720x1280     2620   \n",
       "93           Xperia L2  Sony  Android 7.1.1     5.5   720x1280     3300   \n",
       "\n",
       "   battery_type  ram(GB) announcement_date  weight(g)  ...  video_1080p  \\\n",
       "5        Li-Ion        3        2017-02-01      143.0  ...         True   \n",
       "13       Li-Ion        2        2017-03-01      180.0  ...         True   \n",
       "48       Li-Ion        4        2017-08-01      140.0  ...         True   \n",
       "66       Li-Ion        3        2017-10-01      154.0  ...         True   \n",
       "93       Li-Ion        3        2018-01-01      178.0  ...         True   \n",
       "\n",
       "    video_4K  video_8K  video_30fps  video_60fps  video_120fps  video_240fps  \\\n",
       "5      False     False         True        False         False         False   \n",
       "13     False     False         True        False         False         False   \n",
       "48      True     False         True         True         False         False   \n",
       "66     False     False         True        False         False         False   \n",
       "93     False     False         True        False         False         False   \n",
       "\n",
       "    video_480fps  video_960fps  price(USD)  \n",
       "5          False         False       140.0  \n",
       "13         False         False       110.0  \n",
       "48         False          True       300.0  \n",
       "66         False         False       168.0  \n",
       "93         False         False       140.0  \n",
       "\n",
       "[5 rows x 22 columns]"
      ]
     },
     "execution_count": 33,
     "metadata": {},
     "output_type": "execute_result"
    }
   ],
   "source": [
    "x"
   ]
  },
  {
   "cell_type": "code",
   "execution_count": null,
   "id": "857d46d7",
   "metadata": {},
   "outputs": [],
   "source": [
    "# Ans 5 sony phone supports 720 x 1280 resolution"
   ]
  },
  {
   "cell_type": "code",
   "execution_count": null,
   "id": "248ce464",
   "metadata": {},
   "outputs": [],
   "source": []
  }
 ],
 "metadata": {
  "kernelspec": {
   "display_name": "Python 3 (ipykernel)",
   "language": "python",
   "name": "python3"
  },
  "language_info": {
   "codemirror_mode": {
    "name": "ipython",
    "version": 3
   },
   "file_extension": ".py",
   "mimetype": "text/x-python",
   "name": "python",
   "nbconvert_exporter": "python",
   "pygments_lexer": "ipython3",
   "version": "3.11.3"
  }
 },
 "nbformat": 4,
 "nbformat_minor": 5
}
